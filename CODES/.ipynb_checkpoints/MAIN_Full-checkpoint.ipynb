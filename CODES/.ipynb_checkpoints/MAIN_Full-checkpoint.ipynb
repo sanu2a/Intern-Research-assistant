{
 "cells": [
  {
   "cell_type": "code",
   "execution_count": 1,
   "metadata": {},
   "outputs": [],
   "source": [
    "import numpy as np\n",
    "import pandas as pd\n",
    "import matplotlib.pyplot as plt\n",
    "import sys\n",
    "import os\n",
    "import glob\n",
    "import datetime\n",
    "import gc"
   ]
  },
  {
   "cell_type": "code",
   "execution_count": 2,
   "metadata": {},
   "outputs": [],
   "source": [
    "sys.path.append(\"/Users/guillemette/Desktop/HP2_STAGE_Guillemette/CODES/\")\n",
    "from Modules import edf\n",
    "from Modules import annotation as annot\n",
    "from Modules import desaturation as desat"
   ]
  },
  {
   "cell_type": "code",
   "execution_count": 3,
   "metadata": {},
   "outputs": [],
   "source": [
    "sys.path.append(\"/Users/guillemette/Desktop/HP2_STAGE_Guillemette/CODES/CALCULS_INDICATEURS\")\n",
    "from Modules import event\n",
    "from Modules import position\n",
    "from Modules import sleep"
   ]
  },
  {
   "cell_type": "markdown",
   "metadata": {},
   "source": [
    "### Chargement de la liste des dossiers PA à traiter"
   ]
  },
  {
   "cell_type": "code",
   "execution_count": 4,
   "metadata": {},
   "outputs": [],
   "source": [
    "## Remarque : le tableau rassemblant les PA doit être au format csv\n",
    "patients = pd.read_csv(\"/Users/guillemette/Desktop/STAGE CHUGA/DATA/PA_test.csv\")\n",
    "# Définition du tableau avec les PA à traiter\n",
    "## Le format doit être similaire au format des dossiers patients i.e. \"PAXXXX\"\n",
    "tab_patients = []\n",
    "for patient in patients.patient_id :\n",
    "    tab_patients = np.append(tab_patients, \"PA\" + str(patient))"
   ]
  },
  {
   "cell_type": "markdown",
   "metadata": {},
   "source": [
    "### Définition du chemin vers le dossier où se trouve les données\n"
   ]
  },
  {
   "cell_type": "code",
   "execution_count": 6,
   "metadata": {},
   "outputs": [],
   "source": [
    "path_main = \"/Users/guillemette/Desktop/STAGE CHUGA/DATA/EDF\""
   ]
  },
  {
   "cell_type": "markdown",
   "metadata": {},
   "source": [
    "# ------"
   ]
  },
  {
   "cell_type": "code",
   "execution_count": 6,
   "metadata": {},
   "outputs": [],
   "source": [
    "patients_final = [] # Tableau des patients traités par le code\n",
    "erreur = pd.DataFrame(columns =[\"Erreur\"]) # Tableau des erreurs avec le PA en indice et l'erreur associée."
   ]
  },
  {
   "cell_type": "code",
   "execution_count": 7,
   "metadata": {},
   "outputs": [],
   "source": [
    "# -- Récupération de la date à laquelle le script tourne\n",
    "date = datetime.date.today()"
   ]
  },
  {
   "cell_type": "code",
   "execution_count": 8,
   "metadata": {},
   "outputs": [],
   "source": [
    "# -- Définition du seuil pour la définition d'une désaturation\n",
    "seuil = 3"
   ]
  },
  {
   "cell_type": "code",
   "execution_count": 11,
   "metadata": {},
   "outputs": [
    {
     "name": "stdout",
     "output_type": "stream",
     "text": [
      "/Users/guillemette/Desktop/STAGE CHUGA/DATA/EDF/PA1872\n",
      "Extracting EDF parameters from /Users/guillemette/Desktop/STAGE CHUGA/DATA/EDF/PA1872/FE224T1-PA1872V1C1.edf...\n",
      "EDF file detected\n",
      "Setting channel info structure...\n",
      "Creating raw.info structure...\n",
      "Reading 0 ... 6960639  =      0.000 ... 27189.996 secs...\n",
      "/Users/guillemette/Desktop/STAGE CHUGA/DATA/EDF/PA1873\n",
      "Extracting EDF parameters from /Users/guillemette/Desktop/STAGE CHUGA/DATA/EDF/PA1873/FE223T1-PA1873V1C1.edf...\n",
      "EDF file detected\n",
      "Setting channel info structure...\n",
      "Creating raw.info structure...\n",
      "Reading 0 ... 7698687  =      0.000 ... 30072.996 secs...\n",
      "/Users/guillemette/Desktop/STAGE CHUGA/DATA/EDF/PA1845\n",
      "Extracting EDF parameters from /Users/guillemette/Desktop/STAGE CHUGA/DATA/EDF/PA1845/FE225T1-PA1845V1C1.edf...\n",
      "EDF file detected\n",
      "Setting channel info structure...\n",
      "Creating raw.info structure...\n",
      "Reading 0 ... 5971455  =      0.000 ... 23325.996 secs...\n",
      "/Users/guillemette/Desktop/STAGE CHUGA/DATA/EDF/PA1763\n",
      "Extracting EDF parameters from /Users/guillemette/Desktop/STAGE CHUGA/DATA/EDF/PA1763/FE231T1-PA1763V1C1.edf...\n",
      "EDF file detected\n",
      "Setting channel info structure...\n",
      "Creating raw.info structure...\n",
      "Reading 0 ... 6716415  =      0.000 ... 26235.996 secs...\n",
      "/Users/guillemette/Desktop/STAGE CHUGA/DATA/EDF/PA1724\n",
      "Extracting EDF parameters from /Users/guillemette/Desktop/STAGE CHUGA/DATA/EDF/PA1724/FE234T1-PA1724V1C1.edf...\n",
      "EDF file detected\n",
      "Setting channel info structure...\n",
      "Creating raw.info structure...\n",
      "Reading 0 ... 6980863  =      0.000 ... 27268.996 secs...\n",
      "/Users/guillemette/Desktop/STAGE CHUGA/DATA/EDF/PA1715\n",
      "Extracting EDF parameters from /Users/guillemette/Desktop/STAGE CHUGA/DATA/EDF/PA1715/FE237T1-PA1715V1C1.edf...\n",
      "EDF file detected\n",
      "Setting channel info structure...\n",
      "Creating raw.info structure...\n",
      "Reading 0 ... 7983871  =      0.000 ... 31186.996 secs...\n",
      "/Users/guillemette/Desktop/STAGE CHUGA/DATA/EDF/PA1713\n",
      "Extracting EDF parameters from /Users/guillemette/Desktop/STAGE CHUGA/DATA/EDF/PA1713/FE238T1-PA1713V1C1.edf...\n",
      "EDF file detected\n",
      "Setting channel info structure...\n",
      "Creating raw.info structure...\n",
      "Reading 0 ... 6468351  =      0.000 ... 25266.996 secs...\n",
      "/Users/guillemette/Desktop/STAGE CHUGA/DATA/EDF/PA1725\n",
      "Extracting EDF parameters from /Users/guillemette/Desktop/STAGE CHUGA/DATA/EDF/PA1725/FE233T1-PA1725V1C1 .edf...\n",
      "EDF file detected\n",
      "Setting channel info structure...\n",
      "Creating raw.info structure...\n",
      "Reading 0 ... 6791423  =      0.000 ... 26528.996 secs...\n",
      "/Users/guillemette/Desktop/STAGE CHUGA/DATA/EDF/PA1487\n",
      "Extracting EDF parameters from /Users/guillemette/Desktop/STAGE CHUGA/DATA/EDF/PA1487/FE923T1-PA1487V1C1.edf...\n",
      "EDF file detected\n",
      "Setting channel info structure...\n",
      "Creating raw.info structure...\n",
      "Reading 0 ... 7833599  =      0.000 ... 30599.996 secs...\n"
     ]
    },
    {
     "name": "stderr",
     "output_type": "stream",
     "text": [
      "/Users/guillemette/Desktop/STAGE CHUGA/PYTHON/Modules/edf.py:29: RuntimeWarning: 1 channel names are too long, have been truncated to 15 characters:\n",
      "['Tidal Volume_Dér']\n",
      "  data = mne.io.read_raw_edf(file, preload=True) # Chargement des données.\n"
     ]
    },
    {
     "name": "stdout",
     "output_type": "stream",
     "text": [
      "/Users/guillemette/Desktop/STAGE CHUGA/DATA/EDF/PA1840\n",
      "Extracting EDF parameters from /Users/guillemette/Desktop/STAGE CHUGA/DATA/EDF/PA1840/FE226T1-PA1840V1C1 .edf...\n",
      "EDF file detected\n",
      "Setting channel info structure...\n",
      "Creating raw.info structure...\n",
      "Reading 0 ... 6386687  =      0.000 ... 24947.996 secs...\n",
      "/Users/guillemette/Desktop/STAGE CHUGA/DATA/EDF/PA1876\n",
      "Extracting EDF parameters from /Users/guillemette/Desktop/STAGE CHUGA/DATA/EDF/PA1876/FE222T1-PA1876V1C1.edf...\n",
      "EDF file detected\n",
      "Setting channel info structure...\n",
      "Creating raw.info structure...\n",
      "Reading 0 ... 7023615  =      0.000 ... 27435.996 secs...\n",
      "/Users/guillemette/Desktop/STAGE CHUGA/DATA/EDF/PA1824\n",
      "Extracting EDF parameters from /Users/guillemette/Desktop/STAGE CHUGA/DATA/EDF/PA1824/FE228T1-PA1824V1C1 .edf...\n",
      "EDF file detected\n",
      "Setting channel info structure...\n",
      "Creating raw.info structure...\n",
      "Reading 0 ... 4962815  =      0.000 ... 19385.996 secs...\n",
      "/Users/guillemette/Desktop/STAGE CHUGA/DATA/EDF/PA1718\n",
      "Extracting EDF parameters from /Users/guillemette/Desktop/STAGE CHUGA/DATA/EDF/PA1718/FE236T1-PA1718V1C1 .edf...\n",
      "EDF file detected\n",
      "Setting channel info structure...\n",
      "Creating raw.info structure...\n",
      "Reading 0 ... 6840575  =      0.000 ... 26720.996 secs...\n",
      "/Users/guillemette/Desktop/STAGE CHUGA/DATA/EDF/PA1837\n",
      "Extracting EDF parameters from /Users/guillemette/Desktop/STAGE CHUGA/DATA/EDF/PA1837/FE227T1-PA1837V1C1 .edf...\n",
      "EDF file detected\n",
      "Setting channel info structure...\n",
      "Creating raw.info structure...\n",
      "Reading 0 ... 8008447  =      0.000 ... 31282.996 secs...\n"
     ]
    }
   ],
   "source": [
    "for root, dirs, files in os.walk(path_main):\n",
    "    for dossier in dirs :\n",
    "        path = root + \"/\"\n",
    "        if dossier in tab_patients :\n",
    "            print(path + dossier)\n",
    "# -- Définition des chemins vers le lieu de l'écriture des tabeaux d'indicateurs\n",
    "            path_ecriture_indicateurs = path + dossier +\"/Indicateurs.csv\"\n",
    "            path_ecriture_annotations = path + dossier + \"/Annotations.csv\"\n",
    "            path_ecriture_sat = path + dossier + \"/Saturation.csv\"\n",
    "            path_ecriture_desat_3 = path + dossier + \"/Desaturation_3.csv\"\n",
    "\n",
    "## ANNOTATIONS\n",
    "            try : \n",
    "# -- Chargement des annotations\n",
    "                annot_df = annot.loadAnnotation (path, dossier +\"/\")\n",
    "### Gestion des erreurs\n",
    "            except Exception as e:\n",
    "                print(dossier, \"- ANNOT -\", e)\n",
    "                erreur.loc[dossier, \"Erreur\"] = \"ANNOTATION\"\n",
    "            else :\n",
    "# -- Vérification que les tableaux n'existent pas déjà dans le dossier désigné par path_ecriture\n",
    "                if (glob.glob(path_ecriture_annotations) == []) :\n",
    "# -- Ajout des informations du script\n",
    "                    annot_df.loc[0, \"SCRIPT\"] = \"ANNOTATIONS\"\n",
    "                    annot_df.loc[1, \"SCRIPT\"] = str(date.day) + \"-\" + str(date.month) + \"-\" + str(date.year)\n",
    "                    annot_df.loc[2, \"SCRIPT\"] = \"Version1\"\n",
    "# -- Exportation du tableau Annotations.csv\n",
    "                    annot_df.to_csv(path_ecriture_annotations)\n",
    "## INDICATEURS\n",
    "            if (glob.glob(path_ecriture_indicateurs) == []) :\n",
    "# -- Calcul des indicateurs\n",
    "                indicateurs_df = pd.DataFrame(columns = [\"PA\", \"TRT\", \"TSP\", \"TST\", \"Wake\", \"TimeST1\", \"TimeST2\", \"TimeSWS\", \"TimeREM\"])\n",
    "                indicateurs_df.loc[dossier, \"PA\"] = dossier\n",
    "                indicateurs_df.loc[dossier, \"TRT\"] = sleep.get_TRT(annot_df)\n",
    "                (indicateurs_df.loc[dossier, \"TSP\"], idxonset, idxawaken) = sleep.get_TSP(annot_df)\n",
    "                (indicateurs_df.loc[dossier, \"TST\"], indicateurs_df.loc[dossier, \"Wake\"], indicateurs_df.loc[dossier, \"TimeST1\"], indicateurs_df.loc[dossier, \"TimeST2\"], indicateurs_df.loc[dossier, \"TimeSWS\"], indicateurs_df.loc[dossier, \"TimeREM\"]) = sleep.get_TST(annot_df, idxonset, idxawaken)\n",
    "# -- Ajout des informations du script\n",
    "                indicateurs_df.loc[dossier, \"SCRIPT\"] = \"INDICATEURS -- \" + str(date.day) + \"-\" + str(date.month) + \"-\" + str(date.year)\n",
    "# -- Exportation du tableau Indicateurs_sleep.csv\n",
    "                indicateurs_df.to_csv(path_ecriture_indicateurs, index = False)\n",
    "## CHARGEMENT EDF\n",
    "## Analyse de la saturation en oxygène\n",
    "            if (glob.glob(path_ecriture_sat) == []) :\n",
    "                try :\n",
    "# -- Chargement du fichier edf\n",
    "                    data = edf.verifier_isPSG(path, dossier+'/')\n",
    "### Gestion des erreurs\n",
    "                except Exception as e:\n",
    "                    print(dossier, \"- EDF -\", e)\n",
    "                    erreur.loc[dossier, \"Erreur\"] = \"EDF\"\n",
    "                else :\n",
    "                    try :\n",
    "# -- Chargement du signal de saturation en oxygène\n",
    "                        (sat_df, freq) = edf.get_signalSat(data, annot_df)\n",
    "### Gestion des erreurs\n",
    "                    except Exception as e:\n",
    "                        print(dossier, \"- SAT -\", e)\n",
    "                        erreur.loc[dossier, \"Erreur\"] = \"SAT\"\n",
    "                    else :\n",
    "# -- Exportation du tableau Saturation.csv\n",
    "                        sat_df.to_csv(path_ecriture_sat)\n",
    "## DESATURATION EN OXYGÈNE\n",
    "                        if (glob.glob(path_ecriture_desat_3) == []) :\n",
    "                            try :\n",
    "# -- Repérage des désaturations\n",
    "                                desat_3_df = desat.f_desaturation (sat_df, freq, annot_df, seuil)\n",
    "### Gestion des erreurs\n",
    "                            except Exception as e:\n",
    "                                print(dossier, \"- DESAT -\", e)\n",
    "                                erreur.loc[dossier, \"Erreur\"] = \"DESAT\"\n",
    "# -- Ajout des informations du script\n",
    "                            else :\n",
    "                                desat_3_df.loc[0, \"SCRIPT\"] = \"DESATURATION_\" + str(seuil)\n",
    "                                desat_3_df.loc[1, \"SCRIPT\"] = str(date.day) + \"-\" + str(date.month) + \"-\" + str(date.year)\n",
    "                                desat_3_df.loc[2, \"SCRIPT\"] = \"Version1\"\n",
    "# -- Exportation du tableau Desaturation_3.csv\n",
    "                                desat_3_df.to_csv(path_ecriture_desat_3)\n",
    "\n",
    "# -- Gestion de la mémoire\n",
    "        gc.collect()"
   ]
  },
  {
   "cell_type": "code",
   "execution_count": 7,
   "metadata": {},
   "outputs": [],
   "source": [
    "## Suppression des fichiers créés dans chaque dossier patient\n",
    "for root, dirs, files in os.walk(path_main):\n",
    "    for dossier in dirs :\n",
    "        path = root + \"/\"\n",
    "        path_ecriture_indicateurs = path + dossier +\"/Indicateurs.csv\"\n",
    "        path_ecriture_annotations = path + dossier + \"/Annotations.csv\"\n",
    "        path_ecriture_sat = path + dossier + \"/Saturation.csv\"\n",
    "        path_ecriture_desat_3 = path + dossier + \"/Desaturation_3.csv\"\n",
    "        if dossier in tab_patients :\n",
    "            if ((glob.glob(path_ecriture_indicateurs) == [])) :\n",
    "                pass\n",
    "            else :\n",
    "                os.remove(path_ecriture_indicateurs)\n",
    "                \n",
    "            if ((glob.glob(path_ecriture_annotations) == [])) :\n",
    "                pass\n",
    "            else :\n",
    "                os.remove(path_ecriture_annotations)\n",
    "                \n",
    "            if ((glob.glob(path_ecriture_sat) == [])) :\n",
    "                pass\n",
    "            else :\n",
    "                os.remove(path_ecriture_sat)\n",
    "                \n",
    "            if ((glob.glob(path_ecriture_desat_3) == [])) :\n",
    "                pass\n",
    "            else :\n",
    "                os.remove(path_ecriture_desat_3)"
   ]
  },
  {
   "cell_type": "code",
   "execution_count": null,
   "metadata": {},
   "outputs": [],
   "source": []
  }
 ],
 "metadata": {
  "kernelspec": {
   "display_name": "Python 3",
   "language": "python",
   "name": "python3"
  },
  "language_info": {
   "codemirror_mode": {
    "name": "ipython",
    "version": 3
   },
   "file_extension": ".py",
   "mimetype": "text/x-python",
   "name": "python",
   "nbconvert_exporter": "python",
   "pygments_lexer": "ipython3",
   "version": "3.8.3"
  }
 },
 "nbformat": 4,
 "nbformat_minor": 4
}
