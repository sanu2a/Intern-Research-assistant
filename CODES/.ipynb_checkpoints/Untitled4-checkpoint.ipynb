{
 "cells": [
  {
   "cell_type": "code",
   "execution_count": null,
   "id": "fe91a645",
   "metadata": {},
   "outputs": [],
   "source": [
    "import numpy as np\n",
    "import pandas as pd\n",
    "import matplotlib.pyplot as plt\n",
    "import sys\n",
    "import os\n",
    "import glob\n",
    "import datetime\n",
    "import gc"
   ]
  },
  {
   "cell_type": "code",
   "execution_count": null,
   "id": "e0cbcfc1",
   "metadata": {},
   "outputs": [],
   "source": [
    "sys.path.append(\"C:/Users/HP2/Desktop/StageGuillemette/HP2_STAGE_Guillemette/CODES/\")\n",
    "from Modules import edf\n",
    "from Modules import annotation as annot\n",
    "from Modules import desaturation as desat"
   ]
  },
  {
   "cell_type": "code",
   "execution_count": null,
   "id": "67a1db44",
   "metadata": {},
   "outputs": [],
   "source": [
    "sys.path.append(\"C:/Users/HP2/Desktop/StageGuillemette/HP2_STAGE_Guillemette/CODES/CALCULS_INDICATEURS\")\n",
    "from Modules import event\n",
    "from Modules import position\n",
    "from Modules import sleep"
   ]
  },
  {
   "cell_type": "code",
   "execution_count": null,
   "id": "1a14fdec",
   "metadata": {},
   "outputs": [],
   "source": [
    "## Remarque : le tableau rassemblant les PA doit être au format csv\n",
    "patients = pd.read_csv(\"/Users/HP2/Desktop/StageGuillemette/HP2_STAGE_Guillemette/DATA/PA_test.csv\")\n",
    "# Définition du tableau avec les PA à traiter\n",
    "## Le format doit être similaire au format des dossiers patients i.e. \"PAXXXX\"\n",
    "tab_patients = []\n",
    "for patient in patients.patient_id :\n",
    "    tab_patients = np.append(tab_patients, \"PA\" + str(patient))"
   ]
  },
  {
   "cell_type": "code",
   "execution_count": null,
   "id": "b06b3135",
   "metadata": {},
   "outputs": [],
   "source": [
    "path_main = \"/Users/HP2/Desktop/StageGuillemette/HP2_STAGE_Guillemette/DATA/EDF\""
   ]
  },
  {
   "cell_type": "code",
   "execution_count": null,
   "id": "f6a897bd",
   "metadata": {},
   "outputs": [],
   "source": [
    "patients_final = [] # Tableau des patients traités par le code\n",
    "erreur = pd.DataFrame(columns =[\"Erreur\"]) # Tableau des erreurs avec le PA en indice et l'erreur associée."
   ]
  },
  {
   "cell_type": "code",
   "execution_count": null,
   "id": "2691602b",
   "metadata": {},
   "outputs": [],
   "source": [
    "# -- Récupération de la date à laquelle le script tourne\n",
    "date = datetime.date.today()"
   ]
  },
  {
   "cell_type": "code",
   "execution_count": null,
   "id": "bf0ede03",
   "metadata": {},
   "outputs": [],
   "source": [
    "# -- Définition du seuil pour la définition d'une désaturation\n",
    "seuil = 3"
   ]
  },
  {
   "cell_type": "code",
   "execution_count": null,
   "id": "f1f7618c",
   "metadata": {},
   "outputs": [],
   "source": [
    "for root, dirs, files in os.walk(path_main):\n",
    "    for dossier in dirs :\n",
    "        path = root + \"/\"\n",
    "        if dossier in tab_patients :\n",
    "            print(path + dossier)\n",
    "# -- Définition des chemins vers le lieu de l'écriture des tabeaux d'indicateurs\n",
    "            path_ecriture_indicateurs = path + dossier +\"/Indicateurs.csv\"\n",
    "            path_ecriture_annotations = path + dossier + \"/Annotations.csv\"\n",
    "            path_ecriture_sat = path + dossier + \"/Saturation.csv\"\n",
    "            path_ecriture_desat_3 = path + dossier + \"/Desaturation_3.csv\"\n",
    "\n",
    "## ANNOTATIONS\n",
    "            try : \n",
    "# -- Chargement des annotations\n",
    "                annot_df = annot.loadAnnotation (path, dossier +\"/\")\n",
    "### Gestion des erreurs\n",
    "            except Exception as e:\n",
    "                print(dossier, \"- ANNOT -\", e)\n",
    "                erreur.loc[dossier, \"Erreur\"] = \"ANNOTATION\"\n",
    "            else :\n",
    "# -- Vérification que les tableaux n'existent pas déjà dans le dossier désigné par path_ecriture\n",
    "                if (glob.glob(path_ecriture_annotations) == []) :\n",
    "# -- Ajout des informations du script\n",
    "                    annot_df.loc[0, \"SCRIPT\"] = \"ANNOTATIONS\"\n",
    "                    annot_df.loc[1, \"SCRIPT\"] = str(date.day) + \"-\" + str(date.month) + \"-\" + str(date.year)\n",
    "                    annot_df.loc[2, \"SCRIPT\"] = \"Version1\"\n",
    "# -- Exportation du tableau Annotations.csv\n",
    "                    annot_df.to_csv(path_ecriture_annotations)\n",
    "## INDICATEURS\n",
    "            if (glob.glob(path_ecriture_indicateurs) == []) :\n",
    "# -- Calcul des indicateurs\n",
    "                indicateurs_df = pd.DataFrame(columns = [\"PA\", \"TRT\", \"TSP\", \"TST\", \"Wake\", \"TimeST1\", \"TimeST2\", \"TimeSWS\", \"TimeREM\"])\n",
    "                indicateurs_df.loc[dossier, \"PA\"] = dossier\n",
    "                indicateurs_df.loc[dossier, \"TRT\"] = sleep.get_TRT(annot_df)\n",
    "                (indicateurs_df.loc[dossier, \"TSP\"], idxonset, idxawaken) = sleep.get_TSP(annot_df)\n",
    "                (indicateurs_df.loc[dossier, \"TST\"], indicateurs_df.loc[dossier, \"Wake\"], indicateurs_df.loc[dossier, \"TimeST1\"], indicateurs_df.loc[dossier, \"TimeST2\"], indicateurs_df.loc[dossier, \"TimeSWS\"], indicateurs_df.loc[dossier, \"TimeREM\"]) = sleep.get_TST(annot_df, idxonset, idxawaken)\n",
    "# -- Ajout des informations du script\n",
    "                indicateurs_df.loc[dossier, \"SCRIPT\"] = \"INDICATEURS -- \" + str(date.day) + \"-\" + str(date.month) + \"-\" + str(date.year)\n",
    "# -- Exportation du tableau Indicateurs_sleep.csv\n",
    "                indicateurs_df.to_csv(path_ecriture_indicateurs, index = False)\n",
    "## CHARGEMENT EDF\n",
    "## Analyse de la saturation en oxygène\n",
    "            if (glob.glob(path_ecriture_sat) == []) :\n",
    "                try :\n",
    "# -- Chargement du fichier edf\n",
    "                    data = edf.verifier_isPSG(path, dossier+'/')\n",
    "### Gestion des erreurs\n",
    "                except Exception as e:\n",
    "                    print(dossier, \"- EDF -\", e)\n",
    "                    erreur.loc[dossier, \"Erreur\"] = \"EDF\"\n",
    "                else :\n",
    "                    try :\n",
    "# -- Chargement du signal de saturation en oxygène\n",
    "                        (sat_df, freq) = edf.get_signalSat(data, annot_df)\n",
    "### Gestion des erreurs\n",
    "                    except Exception as e:\n",
    "                        print(dossier, \"- SAT -\", e)\n",
    "                        erreur.loc[dossier, \"Erreur\"] = \"SAT\"\n",
    "                    else :\n",
    "# -- Exportation du tableau Saturation.csv\n",
    "                        sat_df.to_csv(path_ecriture_sat)\n",
    "## DESATURATION EN OXYGÈNE\n",
    "                        if (glob.glob(path_ecriture_desat_3) == []) :\n",
    "                            try :\n",
    "# -- Repérage des désaturations\n",
    "                                desat_3_df = desat.f_desaturation (sat_df, freq, annot_df, seuil)\n",
    "### Gestion des erreurs\n",
    "                            except Exception as e:\n",
    "                                print(dossier, \"- DESAT -\", e)\n",
    "                                erreur.loc[dossier, \"Erreur\"] = \"DESAT\"\n",
    "# -- Ajout des informations du script\n",
    "                            else :\n",
    "                                desat_3_df.loc[0, \"SCRIPT\"] = \"DESATURATION_\" + str(seuil)\n",
    "                                desat_3_df.loc[1, \"SCRIPT\"] = str(date.day) + \"-\" + str(date.month) + \"-\" + str(date.year)\n",
    "                                desat_3_df.loc[2, \"SCRIPT\"] = \"Version1\"\n",
    "# -- Exportation du tableau Desaturation_3.csv\n",
    "                                desat_3_df.to_csv(path_ecriture_desat_3)\n",
    "\n",
    "# -- Gestion de la mémoire\n",
    "        gc.collect()"
   ]
  },
  {
   "cell_type": "code",
   "execution_count": null,
   "id": "775d4c55",
   "metadata": {},
   "outputs": [],
   "source": []
  }
 ],
 "metadata": {
  "kernelspec": {
   "display_name": "Python 3",
   "language": "python",
   "name": "python3"
  },
  "language_info": {
   "codemirror_mode": {
    "name": "ipython",
    "version": 3
   },
   "file_extension": ".py",
   "mimetype": "text/x-python",
   "name": "python",
   "nbconvert_exporter": "python",
   "pygments_lexer": "ipython3",
   "version": "3.8.8"
  }
 },
 "nbformat": 4,
 "nbformat_minor": 5
}
