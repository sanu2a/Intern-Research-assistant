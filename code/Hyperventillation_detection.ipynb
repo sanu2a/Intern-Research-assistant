{
 "cells": [
  {
   "cell_type": "code",
   "execution_count": null,
   "metadata": {
    "collapsed": true
   },
   "outputs": [],
   "source": [
    "import pandas as pd\n",
    "import matplotlib.pyplot as plt\n",
    "import numpy as np"
   ]
  },
  {
   "cell_type": "code",
   "execution_count": 4,
   "outputs": [
    {
     "data": {
      "text/plain": "   MAX_desat  MIN_desat  MAX_resat   HEURE_debut     HEURE_min     HEURE_fin  \\\n0  98.498497  95.498543  99.498482  85721.312500  85748.296875  85750.968750   \n1  95.498543  92.498589  95.498543  85863.296875  85891.640625  85917.296875   \n2  96.498528  93.498573  96.498528  85921.296875  85922.296875  86016.968750   \n3  96.498528  92.498589  97.498512  86016.968750  86035.296875  86064.625000   \n4  97.498512  93.498573  96.498528  86064.625000  86072.656250  86080.625000   \n\n   DUREE_event  DUREE_desat  DUREE_resat  DELTA_desat  DELTA_resat  \\\n0    29.656250    26.984375     2.671875          3.0     3.999939   \n1    54.000000    28.343750    25.656250          3.0     2.999954   \n2    95.671875     1.000000    94.671875          3.0     2.999954   \n3    47.656250    18.328125    29.328125          4.0     4.999924   \n4    16.000000     8.031250     7.968750          4.0     2.999954   \n\n   PENTE_desat  PENTE_resat patient  \n0    -0.111175     1.497053  PA1011  \n1    -0.105843     0.116929  PA1011  \n2    -3.000000     0.031688  PA1011  \n3    -0.218244     0.170482  PA1011  \n4    -0.498054     0.376465  PA1011  ",
      "text/html": "<div>\n<style scoped>\n    .dataframe tbody tr th:only-of-type {\n        vertical-align: middle;\n    }\n\n    .dataframe tbody tr th {\n        vertical-align: top;\n    }\n\n    .dataframe thead th {\n        text-align: right;\n    }\n</style>\n<table border=\"1\" class=\"dataframe\">\n  <thead>\n    <tr style=\"text-align: right;\">\n      <th></th>\n      <th>MAX_desat</th>\n      <th>MIN_desat</th>\n      <th>MAX_resat</th>\n      <th>HEURE_debut</th>\n      <th>HEURE_min</th>\n      <th>HEURE_fin</th>\n      <th>DUREE_event</th>\n      <th>DUREE_desat</th>\n      <th>DUREE_resat</th>\n      <th>DELTA_desat</th>\n      <th>DELTA_resat</th>\n      <th>PENTE_desat</th>\n      <th>PENTE_resat</th>\n      <th>patient</th>\n    </tr>\n  </thead>\n  <tbody>\n    <tr>\n      <th>0</th>\n      <td>98.498497</td>\n      <td>95.498543</td>\n      <td>99.498482</td>\n      <td>85721.312500</td>\n      <td>85748.296875</td>\n      <td>85750.968750</td>\n      <td>29.656250</td>\n      <td>26.984375</td>\n      <td>2.671875</td>\n      <td>3.0</td>\n      <td>3.999939</td>\n      <td>-0.111175</td>\n      <td>1.497053</td>\n      <td>PA1011</td>\n    </tr>\n    <tr>\n      <th>1</th>\n      <td>95.498543</td>\n      <td>92.498589</td>\n      <td>95.498543</td>\n      <td>85863.296875</td>\n      <td>85891.640625</td>\n      <td>85917.296875</td>\n      <td>54.000000</td>\n      <td>28.343750</td>\n      <td>25.656250</td>\n      <td>3.0</td>\n      <td>2.999954</td>\n      <td>-0.105843</td>\n      <td>0.116929</td>\n      <td>PA1011</td>\n    </tr>\n    <tr>\n      <th>2</th>\n      <td>96.498528</td>\n      <td>93.498573</td>\n      <td>96.498528</td>\n      <td>85921.296875</td>\n      <td>85922.296875</td>\n      <td>86016.968750</td>\n      <td>95.671875</td>\n      <td>1.000000</td>\n      <td>94.671875</td>\n      <td>3.0</td>\n      <td>2.999954</td>\n      <td>-3.000000</td>\n      <td>0.031688</td>\n      <td>PA1011</td>\n    </tr>\n    <tr>\n      <th>3</th>\n      <td>96.498528</td>\n      <td>92.498589</td>\n      <td>97.498512</td>\n      <td>86016.968750</td>\n      <td>86035.296875</td>\n      <td>86064.625000</td>\n      <td>47.656250</td>\n      <td>18.328125</td>\n      <td>29.328125</td>\n      <td>4.0</td>\n      <td>4.999924</td>\n      <td>-0.218244</td>\n      <td>0.170482</td>\n      <td>PA1011</td>\n    </tr>\n    <tr>\n      <th>4</th>\n      <td>97.498512</td>\n      <td>93.498573</td>\n      <td>96.498528</td>\n      <td>86064.625000</td>\n      <td>86072.656250</td>\n      <td>86080.625000</td>\n      <td>16.000000</td>\n      <td>8.031250</td>\n      <td>7.968750</td>\n      <td>4.0</td>\n      <td>2.999954</td>\n      <td>-0.498054</td>\n      <td>0.376465</td>\n      <td>PA1011</td>\n    </tr>\n  </tbody>\n</table>\n</div>"
     },
     "execution_count": 4,
     "metadata": {},
     "output_type": "execute_result"
    }
   ],
   "source": [
    "ac,ao,hc,ho = 0,1,2,3\n",
    "path_data =\"/Users/sanaailla/Desktop/Intern/Data/mars/\"\n",
    "patients = pd.read_csv(path_data + \"dir_list.csv\",header=None)\n",
    "saturations = pd.read_csv(path_data + \"Saturations_all.csv\", index_col = None)\n",
    "desaturations = pd.read_csv(path_data + \"Desaturations_all.csv\", index_col = None)\n",
    "hypervs = pd.read_csv(path_data + \"Hypervs_all.csv\", index_col = None)\n",
    "annotations = pd.read_csv(path_data + \"Annotations_all.csv\",index_col = None)\n",
    "desaturations.head()"
   ],
   "metadata": {
    "collapsed": false
   }
  },
  {
   "cell_type": "markdown",
   "source": [],
   "metadata": {
    "collapsed": false
   }
  },
  {
   "cell_type": "code",
   "execution_count": null,
   "outputs": [],
   "source": [
    "patient = patients[0][0]\n",
    "hyp = hypervs[hypervs[\"patient\"]==patient]\n",
    "sat = saturations[saturations[\"patient\"] == patient]\n",
    "m = sat.SAT[0]\n",
    "for i in range(len(hyp)):\n",
    "    hypo = sat[(sat.Heure >= hyp.HEURE_debut[i]) & (sat.Heure <= hyp.HEURE_fin[i])].SAT\n",
    "    plt.plot(hypo)\n",
    "    #plt.plot(hypo[hypo>=m],c = \"green\")\n",
    "    plt.axhline(m,c=\"red\")\n",
    "    plt.plot()\n",
    "    plt.show()"
   ],
   "metadata": {
    "collapsed": false
   }
  },
  {
   "cell_type": "code",
   "execution_count": null,
   "outputs": [],
   "source": [
    "def desaturations_lab(desaturations, saturations,patients, seuil = 90) :\n",
    "    toreturn = pd.DataFrame(columns = desaturations.columns)\n",
    "    toreturn[\"events\"] = np.NAN\n",
    "    for patient in patients:\n",
    "        desat = desaturations[desaturations[\"patient\"] == patient].reset_index()\n",
    "        sats = saturations[saturations[\"patient\"] == patient].reset_index()\n",
    "        data = pd.DataFrame(data = desat,columns = desaturations.columns)\n",
    "        debut_desat = desat[\"HEURE_debut\"].astype(int) + 1\n",
    "        debut_label = sats.Heure\n",
    "        events = sats[\"Évenement\"]\n",
    "        duree_label = sats.Durée\n",
    "        labels = []\n",
    "        closest_times = []\n",
    "        differences = []\n",
    "        for i in range(len(desat)):\n",
    "            closest_label = np.NaN\n",
    "            closest_time = np.NaN\n",
    "            #diff = np.NaN\n",
    "            for label_time,event,duree in zip(debut_label,events,duree_label):\n",
    "                if label_time < debut_desat[i] and (debut_desat[i] - label_time) < seuil + duree  and label_time not in closest_times:\n",
    "                    closest_label = event\n",
    "                    closest_time = label_time\n",
    "                    #diff =  debut_desat[i] - label_time\n",
    "            #differences.append(diff)\n",
    "            labels.append(closest_label)\n",
    "            closest_times.append(closest_time)\n",
    "        data[\"events\"] = labels\n",
    "        #desaturations[\"difference\"] = differences\n",
    "        #desaturations[\"closest time\"] = closest_times\n",
    "        data = data[~data[\"events\"].isna()].reset_index(drop=True)\n",
    "        data[\"events\"] =  data[\"events\"].replace({\"hypopnée Centrale\": hc,\"Hypopnée\": ho,\"Apnée Obstructive\": ao,\"Apnée Centrale\": ac})\n",
    "        toreturn = pd.concat([data,toreturn])\n",
    "        print(\"fin\",patient)\n",
    "    return toreturn"
   ],
   "metadata": {
    "collapsed": false
   }
  },
  {
   "cell_type": "code",
   "execution_count": null,
   "outputs": [],
   "source": [
    "desaturations_labelise = desaturations_lab(desaturations,saturations,patients[0])\n",
    "desaturations_labelise.to_csv(path_data + \"Desaturations_all_labelisee.csv\")"
   ],
   "metadata": {
    "collapsed": false
   }
  },
  {
   "cell_type": "code",
   "execution_count": null,
   "outputs": [],
   "source": [
    "desaturations_labelisee = pd.read_csv(path_data + \"Desaturations_all_labelisee.csv\",index_col= 0)\n",
    "desaturations_labelise.columns"
   ],
   "metadata": {
    "collapsed": false
   }
  },
  {
   "cell_type": "code",
   "execution_count": null,
   "outputs": [],
   "source": [
    "import numpy as np\n",
    "from scipy.integrate import trapz\n",
    "def attribute_hypervs(desaturations,saturations,hypervs,patients,ecart = 0):\n",
    "    toreturn = pd.DataFrame()\n",
    "    for patient in patients:\n",
    "        desat = desaturations[desaturations[\"patient\"] == patient].reset_index()\n",
    "        sats = saturations[saturations[\"patient\"] == patient].reset_index()\n",
    "        hyp = hypervs[hypervs[\"patient\"] == patient].reset_index()\n",
    "        m = sats.SAT[0]\n",
    "        i = 0\n",
    "        ixs = []\n",
    "        desat[\"Fin hyp\"] = 0\n",
    "        desat[\"Hyp\"] = 0\n",
    "        desat[\"area_up\"] = 0\n",
    "        while i < len(desat):\n",
    "            seuil = int(desat.DUREE_event[i]) + ecart\n",
    "            j = 0\n",
    "            while j < len(hyp):\n",
    "                dff_time = hyp.HEURE_debut[j] - desat.HEURE_debut[i]\n",
    "                if dff_time >= 0 and dff_time <= seuil:\n",
    "                    ixs.append((i,j))\n",
    "                    break\n",
    "                j+= 1\n",
    "            desaturation = sats[((sats.Heure >= desat.HEURE_debut[i]) & (sats.Heure <= desat.HEURE_fin[i]))].SAT\n",
    "            x = desaturation.index.values\n",
    "            y = desaturation.values\n",
    "            baseline = [m for _ in range(len(desaturation))]\n",
    "            desat.loc[i, \"area_down\"] = trapz(np.maximum(y, baseline) - baseline, x)\n",
    "            i+= 1\n",
    "        for (d,h) in ixs:\n",
    "            signal_hyp = sats[(sats.Heure >= hyp.HEURE_min[h]) & (sats.Heure <= hyp.HEURE_fin[h])].SAT\n",
    "            indice_sig = (signal_hyp >= m)\n",
    "            indice_descente = indice_sig[indice_sig == False].index\n",
    "            if (len(indice_descente)!=0):\n",
    "                indice_descente = indice_descente.values[0]\n",
    "                heure_fin = sats.iloc[indice_descente].Heure\n",
    "            else :\n",
    "                heure_fin = hyp.HEURE_fin[h]\n",
    "            desaturation = sats[(sats.Heure >= desat.HEURE_debut[d]) & (sats.Heure <= heure_fin)].SAT\n",
    "            if desaturation.values[-1] <m:\n",
    "                desaturation = desaturation[:-1]\n",
    "            x = desaturation.index.values\n",
    "            y = desaturation.values\n",
    "            reference_line = [m for _ in range(len(desaturation))]\n",
    "            desat.loc[d, \"area_up\"] = trapz(np.maximum(y, reference_line) - reference_line, x)\n",
    "            #desat.loc[d, \"area_down\"] = trapz(np.maximum(y, reference_line) - reference_line, x)\n",
    "            desat.loc[d,\"Fin hyp\"] = heure_fin\n",
    "            desat.loc[d,\"Hyp\"] = 1\n",
    "            #plt.plot(desaturation)\n",
    "            #plt.axhline(m,c=\"red\")\n",
    "            #plt.show()\n",
    "        toreturn = pd.concat([desat,toreturn])\n",
    "        print(\"fin\", patient)\n",
    "    return toreturn"
   ],
   "metadata": {
    "collapsed": false
   }
  },
  {
   "cell_type": "code",
   "execution_count": null,
   "outputs": [],
   "source": [
    "final_desats = attribute_hypervs(desaturations_labelise,saturations,hypervs,patients[0],0)"
   ],
   "metadata": {
    "collapsed": false
   }
  },
  {
   "cell_type": "code",
   "execution_count": 14,
   "outputs": [],
   "source": [
    "final_desats.to_csv(path_data + \"final_desats.csv\")"
   ],
   "metadata": {
    "collapsed": false
   }
  },
  {
   "cell_type": "code",
   "execution_count": 10,
   "outputs": [],
   "source": [
    "final_desats[final_desats.Hyp == 1]"
   ],
   "metadata": {
    "collapsed": false
   }
  },
  {
   "cell_type": "code",
   "execution_count": null,
   "outputs": [],
   "source": [
    "def display_desaturations(desaturations,saturations):\n",
    "    for i in range(len(desaturations)):\n",
    "        heure_fin = desaturations.HEURE_fin[i]\n",
    "        if desaturations[\"Fin hyp\"][i]!=0:\n",
    "            heure_fin = desaturations[\"Fin hyp\"][i]\n",
    "            desaturation = saturations[(saturations.Heure >= desaturations.HEURE_debut[i]) & (saturations.Heure <= heure_fin)].SAT\n",
    "            plt.plot(desaturation)\n",
    "            m = saturations.SAT[0]\n",
    "            plt.axhline(m,c=\"red\")\n",
    "            plt.show()"
   ],
   "metadata": {
    "collapsed": false
   }
  },
  {
   "cell_type": "code",
   "execution_count": null,
   "outputs": [],
   "source": [
    "for patient in patients[0]:\n",
    "    display_desaturations((final_desats[final_desats[\"patient\"] == patients[0][0]].reset_index()),(saturations[saturations[\"patient\"] == patients[0][0]].reset_index()))"
   ],
   "metadata": {
    "collapsed": false
   }
  }
 ],
 "metadata": {
  "kernelspec": {
   "display_name": "Python 3",
   "language": "python",
   "name": "python3"
  },
  "language_info": {
   "codemirror_mode": {
    "name": "ipython",
    "version": 2
   },
   "file_extension": ".py",
   "mimetype": "text/x-python",
   "name": "python",
   "nbconvert_exporter": "python",
   "pygments_lexer": "ipython2",
   "version": "2.7.6"
  }
 },
 "nbformat": 4,
 "nbformat_minor": 0
}
