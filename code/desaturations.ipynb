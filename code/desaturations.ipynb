{
 "cells": [
  {
   "cell_type": "code",
   "execution_count": 1,
   "outputs": [],
   "source": [
    "# Importer les bibliotheques a utiliser\n",
    "import pandas as pd\n",
    "import matplotlib.pyplot as plt\n",
    "import numpy as np\n",
    "import sys\n",
    "from scipy.integrate import trapz\n",
    "import os"
   ],
   "metadata": {
    "collapsed": false
   }
  },
  {
   "cell_type": "code",
   "execution_count": 42,
   "outputs": [
    {
     "data": {
      "text/plain": "         0\n0   PA1011\n1   PA1089\n2   PA1123\n3   PA1135\n4   PA1141\n5   PA1150\n6   PA1154\n7   PA1171\n8   PA1178\n9   PA1185\n10  PA1203",
      "text/html": "<div>\n<style scoped>\n    .dataframe tbody tr th:only-of-type {\n        vertical-align: middle;\n    }\n\n    .dataframe tbody tr th {\n        vertical-align: top;\n    }\n\n    .dataframe thead th {\n        text-align: right;\n    }\n</style>\n<table border=\"1\" class=\"dataframe\">\n  <thead>\n    <tr style=\"text-align: right;\">\n      <th></th>\n      <th>0</th>\n    </tr>\n  </thead>\n  <tbody>\n    <tr>\n      <th>0</th>\n      <td>PA1011</td>\n    </tr>\n    <tr>\n      <th>1</th>\n      <td>PA1089</td>\n    </tr>\n    <tr>\n      <th>2</th>\n      <td>PA1123</td>\n    </tr>\n    <tr>\n      <th>3</th>\n      <td>PA1135</td>\n    </tr>\n    <tr>\n      <th>4</th>\n      <td>PA1141</td>\n    </tr>\n    <tr>\n      <th>5</th>\n      <td>PA1150</td>\n    </tr>\n    <tr>\n      <th>6</th>\n      <td>PA1154</td>\n    </tr>\n    <tr>\n      <th>7</th>\n      <td>PA1171</td>\n    </tr>\n    <tr>\n      <th>8</th>\n      <td>PA1178</td>\n    </tr>\n    <tr>\n      <th>9</th>\n      <td>PA1185</td>\n    </tr>\n    <tr>\n      <th>10</th>\n      <td>PA1203</td>\n    </tr>\n  </tbody>\n</table>\n</div>"
     },
     "execution_count": 42,
     "metadata": {},
     "output_type": "execute_result"
    }
   ],
   "source": [
    "path = (\"/Users/sanaailla/Desktop/Intern/Data/mars/\")\n",
    "patients = pd.read_csv(path + \"dir_list.csv\",header=None)\n",
    "## Les types des events qui existent\n",
    "ac,ao,hc,ho = 0,1,2,3\n",
    "patients"
   ],
   "metadata": {
    "collapsed": false
   }
  },
  {
   "cell_type": "code",
   "execution_count": 34,
   "outputs": [],
   "source": [
    "def sat_annot_desats(patient_name, path):\n",
    "    saturations_path = os.path.join(path, patient_name, \"saturations.csv\")\n",
    "    annotations_path = os.path.join(path, patient_name, \"Annotations.csv\")\n",
    "    desaturation_path = os.path.join(path, patient_name, \"Desaturation_3.csv\")\n",
    "\n",
    "    if  not os.path.isfile(desaturation_path) or not os.path.isfile(saturations_path) or not os.path.isfile(annotations_path):\n",
    "        print(patient_name)\n",
    "        return None,None,None\n",
    "    else :\n",
    "        saturations = pd.read_csv(saturations_path, index_col=0)\n",
    "        annotations = pd.read_csv(annotations_path,index_col= 0)\n",
    "        events =  [\"Apnée Centrale\",\"hypopnée Centrale\",\"Apnée Obstructive\",\"Hypopnée\"]\n",
    "        annotations = annotations[annotations[\"Evènement\"].isin(events)][[\"Heure\",\"Evènement\",\"Durée\"]]\n",
    "        annotations[\"Heure\"] = annotations[\"Heure\"].astype(int)\n",
    "        annotations[\"Durée\"] = annotations[\"Durée\"].astype(int)\n",
    "        desaturations = pd.read_csv(desaturation_path,index_col=0)\n",
    "        # saturations[\"Heure\"] = saturations[\"Heure\"] .astype(\"int\")\n",
    "        # saturations = saturations.groupby(\"Heure\").mean().reset_index()\n",
    "        saturations = edf.filtrer_signalSat(saturations)\n",
    "    return saturations, annotations,desaturations"
   ],
   "metadata": {
    "collapsed": false
   }
  },
  {
   "cell_type": "code",
   "execution_count": null,
   "outputs": [],
   "source": [
    "# Baseline\n",
    "def baseline(sig):\n",
    "    # if (method == \"mean\"):\n",
    "    #     m = np.mean(sig)\n",
    "    # else :\n",
    "    #     m = np.quantile(sig[:-1][(np.abs(np.diff(sig)) == 0)],0.8)\n",
    "    m = sig[0]\n",
    "    return m"
   ],
   "metadata": {
    "collapsed": false
   }
  },
  {
   "cell_type": "code",
   "execution_count": null,
   "outputs": [],
   "source": [
    "def annotate_sig(saturations, annotations):\n",
    "    saturations[\"Évenement\"] = np.NAN\n",
    "    saturations[\"Durée\"] = np.NAN\n",
    "    for heure, duree, evenement in zip(annotations.Heure, annotations.Durée, annotations.Evènement):\n",
    "        ix = saturations[saturations[\"Heure\"] == heure].index.values\n",
    "        if len(ix)!=0:\n",
    "            i = ix[0]\n",
    "            saturations.loc[i:i + duree - 1, \"Évenement\"] = evenement\n",
    "            saturations.loc[i:i + duree - 1, \"Durée\"] = duree\n",
    "    return saturations"
   ],
   "metadata": {
    "collapsed": false
   }
  },
  {
   "cell_type": "code",
   "execution_count": null,
   "outputs": [],
   "source": [
    "def desaturations_lab(desaturations, annotations, seuil = float(\"inf\")) :\n",
    "    debut_desat = desaturations[\"HEURE_debut\"].astype(int) + 1\n",
    "    debut_label = annotations.Heure\n",
    "    events = annotations.Evènement\n",
    "    duree_label = annotations.Durée\n",
    "    labels = []\n",
    "    closest_times = []\n",
    "    differences = []\n",
    "    for i in range(len(desaturations)):\n",
    "        closest_label = np.NaN\n",
    "        closest_time = np.NaN\n",
    "        diff = np.NaN\n",
    "        for label_time,event,duree in zip(debut_label,events,duree_label):\n",
    "            if label_time < debut_desat[i] and (debut_desat[i] - label_time) < seuil + duree  and label_time not in closest_times:\n",
    "                closest_label = event\n",
    "                closest_time = label_time\n",
    "                diff =  debut_desat[i] - label_time\n",
    "        differences.append(diff)\n",
    "        labels.append(closest_label)\n",
    "        closest_times.append(closest_time)\n",
    "    desaturations[\"events\"] = labels\n",
    "    desaturations[\"difference\"] = differences\n",
    "    desaturations[\"closest time\"] = closest_times\n",
    "    desaturations = desaturations[~desaturations[\"events\"].isna()].reset_index(drop=True)\n",
    "    desaturations[\"events\"] =  desaturations[\"events\"].replace({\"hypopnée Centrale\": hc,\"Hypopnée\": ho,\"Apnée Obstructive\": ao,\"Apnée Centrale\": ac})\n",
    "    return desaturations"
   ],
   "metadata": {
    "collapsed": false
   }
  },
  {
   "cell_type": "code",
   "execution_count": 16,
   "outputs": [],
   "source": [
    "def compute_area(baseline, desaturations):\n",
    "    debut_events = desaturations.HEURE_debut.astype(int)\n",
    "    duree_events = desaturations.DUREE_event.astype(int)\n",
    "    for ix in range(len(desaturations)):\n",
    "        if (len(saturations[saturations.Heure == debut_events[ix]])!=0) :\n",
    "            ix_debut_desat = saturations[saturations.Heure == debut_events[ix]].index.values[0]\n",
    "            desaturation = saturations[\"SAT\"].iloc[int(ix_debut_desat):int(ix_debut_desat) + duree_events[ix]]\n",
    "            x = desaturation.index.values\n",
    "            y = desaturation.values\n",
    "            # plt.plot(y)\n",
    "            # plt.axhline(baseline,c = \"red\")\n",
    "            # plt.show()\n",
    "            reference_line = [baseline for i in range(len(desaturation))]\n",
    "            desaturations.loc[ix, \"area_up\"] = trapz(np.maximum(y, reference_line) - reference_line, x)\n",
    "            desaturations.loc[ix, \"area_down\"] = trapz(np.minimum(y, reference_line) - reference_line, x)\n",
    "        else :\n",
    "            continue\n",
    "    return desaturations.dropna(subset = [\"area_up\",\"area_down\"])"
   ],
   "metadata": {
    "collapsed": false
   }
  },
  {
   "cell_type": "code",
   "execution_count": 28,
   "outputs": [],
   "source": [
    "data = pd.DataFrame()\n",
    "# for patient in patients[0]:\n",
    "patient = \"PA1203\"\n",
    "saturations, annotations, desaturations = sat_annot_desats(patient,path)\n",
    "# if (saturations is None):\n",
    "#     continue\n",
    "# else :\n",
    "baselinee = baseline(saturations.SAT)\n",
    "saturations =  annotate_sig(saturations,annotations)\n",
    "# On teste par exemple un threshold d'une minute et 30 secondes\n",
    "seuil = 90\n",
    "desaturations = desaturations_lab(desaturations,annotations,seuil)\n",
    "desaturations[\"area_up\"] = np.NAN\n",
    "desaturations[\"area_down\"] = np.NAN\n",
    "desaturations[\"patient\"] = patient\n",
    "desaturations = compute_area(baselinee,desaturations)\n",
    "data = pd.concat([data,desaturations], axis = 0)"
   ],
   "metadata": {
    "collapsed": false
   }
  },
  {
   "cell_type": "code",
   "execution_count": 35,
   "outputs": [
    {
     "data": {
      "text/plain": "            SAT\n0      93.91033\n1      94.49856\n2      94.58840\n3      95.40870\n4      94.49856\n...         ...\n25772  95.49854\n25773  95.49854\n25774  94.78371\n25775  97.35789\n25776  98.49850\n\n[25777 rows x 1 columns]",
      "text/html": "<div>\n<style scoped>\n    .dataframe tbody tr th:only-of-type {\n        vertical-align: middle;\n    }\n\n    .dataframe tbody tr th {\n        vertical-align: top;\n    }\n\n    .dataframe thead th {\n        text-align: right;\n    }\n</style>\n<table border=\"1\" class=\"dataframe\">\n  <thead>\n    <tr style=\"text-align: right;\">\n      <th></th>\n      <th>SAT</th>\n    </tr>\n  </thead>\n  <tbody>\n    <tr>\n      <th>0</th>\n      <td>93.91033</td>\n    </tr>\n    <tr>\n      <th>1</th>\n      <td>94.49856</td>\n    </tr>\n    <tr>\n      <th>2</th>\n      <td>94.58840</td>\n    </tr>\n    <tr>\n      <th>3</th>\n      <td>95.40870</td>\n    </tr>\n    <tr>\n      <th>4</th>\n      <td>94.49856</td>\n    </tr>\n    <tr>\n      <th>...</th>\n      <td>...</td>\n    </tr>\n    <tr>\n      <th>25772</th>\n      <td>95.49854</td>\n    </tr>\n    <tr>\n      <th>25773</th>\n      <td>95.49854</td>\n    </tr>\n    <tr>\n      <th>25774</th>\n      <td>94.78371</td>\n    </tr>\n    <tr>\n      <th>25775</th>\n      <td>97.35789</td>\n    </tr>\n    <tr>\n      <th>25776</th>\n      <td>98.49850</td>\n    </tr>\n  </tbody>\n</table>\n<p>25777 rows × 1 columns</p>\n</div>"
     },
     "execution_count": 35,
     "metadata": {},
     "output_type": "execute_result"
    }
   ],
   "source": [
    "patient = \"PA1203\"\n",
    "saturations, annotations, desaturations = sat_annot_desats(patient,path)\n",
    "saturations"
   ],
   "metadata": {
    "collapsed": false
   }
  },
  {
   "cell_type": "code",
   "execution_count": 19,
   "outputs": [],
   "source": [
    "X = data[[\"MAX_desat\",\"MIN_desat\",\"MAX_resat\",\"DUREE_event\",\"PENTE_desat\",\"PENTE_resat\",\"area_down\",\"area_up\",\"DELTA_desat\",\"DELTA_resat\"]] #all\n",
    "#X.loc[:,\"diff_pente\"] = abs(X.loc[:,\"PENTE_desat\"] - X.loc[:,\"PENTE_resat\"])\n",
    "#X = data[[\"MIN_desat\",\"DUREE_event\",\"PENTE_desat\",\"PENTE_resat\",\"area_down\",\"DELTA_desat\",\"DELTA_resat\",]]\n",
    "Y = data[\"events\"]"
   ],
   "metadata": {
    "collapsed": false
   }
  },
  {
   "cell_type": "code",
   "execution_count": null,
   "outputs": [],
   "source": [
    "import seaborn as sns\n",
    "data_all = pd.concat([X,Y], axis = 1)\n",
    "# splot = sns.pairplot(data_all,hue = \"events\")"
   ],
   "metadata": {
    "collapsed": false
   }
  },
  {
   "cell_type": "code",
   "execution_count": 40,
   "outputs": [
    {
     "data": {
      "text/plain": "     MAX_desat  MIN_desat  MAX_resat  DUREE_event  PENTE_desat  PENTE_resat  \\\n1    97.498512  94.498558  97.498512    58.984375    -0.128600     0.084135   \n5    96.498528  92.498589  98.498497    68.671875    -0.249878     0.113928   \n12   95.498543  92.498589  97.498512    76.000000    -0.391437     0.073167   \n36   96.498528  93.498573  96.498528    54.328125    -0.195719     0.076922   \n39   95.498543  92.498589  96.498528    66.000000    -0.130302     0.093073   \n..         ...        ...        ...          ...          ...          ...   \n125  97.498512  94.498558  98.498497    11.000000  -384.000000     0.363889   \n126  96.498528  93.498573  99.498482    20.687500    -0.320802     0.529282   \n136  99.498482  89.498634  98.498497    44.671875    -0.275328     1.077626   \n154  98.498497  94.498558  97.498512    50.015625    -0.100768     0.290684   \n158  97.498512  91.498604  99.498482   118.000000    -0.051874     3.424697   \n\n      area_down     area_up  DELTA_desat  DELTA_resat  \n1    -66.137295    4.723435          3.0     2.999954  \n5   -207.376123   11.108419          4.0     5.999908  \n12  -184.161053    2.433285          3.0     4.999924  \n36  -100.472376    0.000000          3.0     2.999954  \n39  -173.586765    0.000000          3.0     3.999939  \n..          ...         ...          ...          ...  \n125    0.000000   35.274423          3.0     3.999939  \n126    0.000000   58.531091          3.0     5.999908  \n136  -20.888451  114.890203         10.0     8.999863  \n154   -2.235262  185.526757          4.0     2.999954  \n158  -72.600379  152.450444          6.0     7.999878  \n\n[882 rows x 10 columns]",
      "text/html": "<div>\n<style scoped>\n    .dataframe tbody tr th:only-of-type {\n        vertical-align: middle;\n    }\n\n    .dataframe tbody tr th {\n        vertical-align: top;\n    }\n\n    .dataframe thead th {\n        text-align: right;\n    }\n</style>\n<table border=\"1\" class=\"dataframe\">\n  <thead>\n    <tr style=\"text-align: right;\">\n      <th></th>\n      <th>MAX_desat</th>\n      <th>MIN_desat</th>\n      <th>MAX_resat</th>\n      <th>DUREE_event</th>\n      <th>PENTE_desat</th>\n      <th>PENTE_resat</th>\n      <th>area_down</th>\n      <th>area_up</th>\n      <th>DELTA_desat</th>\n      <th>DELTA_resat</th>\n    </tr>\n  </thead>\n  <tbody>\n    <tr>\n      <th>1</th>\n      <td>97.498512</td>\n      <td>94.498558</td>\n      <td>97.498512</td>\n      <td>58.984375</td>\n      <td>-0.128600</td>\n      <td>0.084135</td>\n      <td>-66.137295</td>\n      <td>4.723435</td>\n      <td>3.0</td>\n      <td>2.999954</td>\n    </tr>\n    <tr>\n      <th>5</th>\n      <td>96.498528</td>\n      <td>92.498589</td>\n      <td>98.498497</td>\n      <td>68.671875</td>\n      <td>-0.249878</td>\n      <td>0.113928</td>\n      <td>-207.376123</td>\n      <td>11.108419</td>\n      <td>4.0</td>\n      <td>5.999908</td>\n    </tr>\n    <tr>\n      <th>12</th>\n      <td>95.498543</td>\n      <td>92.498589</td>\n      <td>97.498512</td>\n      <td>76.000000</td>\n      <td>-0.391437</td>\n      <td>0.073167</td>\n      <td>-184.161053</td>\n      <td>2.433285</td>\n      <td>3.0</td>\n      <td>4.999924</td>\n    </tr>\n    <tr>\n      <th>36</th>\n      <td>96.498528</td>\n      <td>93.498573</td>\n      <td>96.498528</td>\n      <td>54.328125</td>\n      <td>-0.195719</td>\n      <td>0.076922</td>\n      <td>-100.472376</td>\n      <td>0.000000</td>\n      <td>3.0</td>\n      <td>2.999954</td>\n    </tr>\n    <tr>\n      <th>39</th>\n      <td>95.498543</td>\n      <td>92.498589</td>\n      <td>96.498528</td>\n      <td>66.000000</td>\n      <td>-0.130302</td>\n      <td>0.093073</td>\n      <td>-173.586765</td>\n      <td>0.000000</td>\n      <td>3.0</td>\n      <td>3.999939</td>\n    </tr>\n    <tr>\n      <th>...</th>\n      <td>...</td>\n      <td>...</td>\n      <td>...</td>\n      <td>...</td>\n      <td>...</td>\n      <td>...</td>\n      <td>...</td>\n      <td>...</td>\n      <td>...</td>\n      <td>...</td>\n    </tr>\n    <tr>\n      <th>125</th>\n      <td>97.498512</td>\n      <td>94.498558</td>\n      <td>98.498497</td>\n      <td>11.000000</td>\n      <td>-384.000000</td>\n      <td>0.363889</td>\n      <td>0.000000</td>\n      <td>35.274423</td>\n      <td>3.0</td>\n      <td>3.999939</td>\n    </tr>\n    <tr>\n      <th>126</th>\n      <td>96.498528</td>\n      <td>93.498573</td>\n      <td>99.498482</td>\n      <td>20.687500</td>\n      <td>-0.320802</td>\n      <td>0.529282</td>\n      <td>0.000000</td>\n      <td>58.531091</td>\n      <td>3.0</td>\n      <td>5.999908</td>\n    </tr>\n    <tr>\n      <th>136</th>\n      <td>99.498482</td>\n      <td>89.498634</td>\n      <td>98.498497</td>\n      <td>44.671875</td>\n      <td>-0.275328</td>\n      <td>1.077626</td>\n      <td>-20.888451</td>\n      <td>114.890203</td>\n      <td>10.0</td>\n      <td>8.999863</td>\n    </tr>\n    <tr>\n      <th>154</th>\n      <td>98.498497</td>\n      <td>94.498558</td>\n      <td>97.498512</td>\n      <td>50.015625</td>\n      <td>-0.100768</td>\n      <td>0.290684</td>\n      <td>-2.235262</td>\n      <td>185.526757</td>\n      <td>4.0</td>\n      <td>2.999954</td>\n    </tr>\n    <tr>\n      <th>158</th>\n      <td>97.498512</td>\n      <td>91.498604</td>\n      <td>99.498482</td>\n      <td>118.000000</td>\n      <td>-0.051874</td>\n      <td>3.424697</td>\n      <td>-72.600379</td>\n      <td>152.450444</td>\n      <td>6.0</td>\n      <td>7.999878</td>\n    </tr>\n  </tbody>\n</table>\n<p>882 rows × 10 columns</p>\n</div>"
     },
     "execution_count": 40,
     "metadata": {},
     "output_type": "execute_result"
    }
   ],
   "source": [
    "Xa,Ya = X[Y.isin([ac,ao])],Y[Y.isin([ac,ao])]\n",
    "Xa"
   ],
   "metadata": {
    "collapsed": false
   }
  },
  {
   "cell_type": "code",
   "execution_count": null,
   "outputs": [],
   "source": [
    "## Affichage\n",
    "#new_desat = features_desat_new[1]\n",
    "#annotations = annotations_f[1]\n",
    "#desat = []\n",
    "#num_plots = len(new_desat)\n",
    "#num_columns = 3\n",
    "#num_rows = (num_plots + num_columns - 1) // num_columns\n",
    "#fig, axes = plt.subplots(num_rows, num_columns, figsize=(15, 5*num_rows))\n",
    "#for ix in range(num_plots):\n",
    "    #ix_debut_lab = int(annotations[annotations[\"Heure\"] == new_desat[\"temps proche\"].iloc[ix]].index.values.min())\n",
    "    #ix_fin_lab = ix_debut_lab + int(new_desat[\"duree lab\"].iloc[ix])\n",
    "    #ix_debut_desat = ix_debut_lab + new_desat[\"difference\"].iloc[ix]\n",
    "    #fin_desat = ix_debut_desat + int(new_desat[\"DUREE_event\"].iloc[ix])\n",
    "    #ix_debut_diff = int(ix_fin_lab)\n",
    "    #ix_fin_diff = ix_debut_diff + int(ix_debut_desat - ix_fin_lab)\n",
    "    #row = ix // num_columns\n",
    "    #col = ix % num_columns\n",
    "    #ax = axes[row, col]\n",
    "    #desat.append(annotations[\"SAT\"].iloc[int(ix_debut_desat):int(fin_desat)+ 1])\n",
    "    #ax.plot(annotations[\"SAT\"].iloc[ix_debut_lab:ix_fin_lab + 1])\n",
    "    #ax.plot(annotations[\"SAT\"].iloc[ix_debut_diff:ix_fin_diff + 1], c=\"green\")\n",
    "    #ax.plot(desat[ix], c=\"red\")\n",
    "    #ax.axhline(annotations[\"SAT\"].iloc[int(ix_debut_desat)], color=\"orange\", linestyle='dashed')\n",
    "    #ax.axvline(annotations.iloc[int(ix_debut_desat)].name, color=\"cyan\", linestyle='dashed')\n",
    "    #ax.axvline(annotations.iloc[int(fin_desat)].name, color=\"cyan\", linestyle='dashed')\n",
    "    #ax.axhline(min(desat[ix]), color=\"black\", linestyle='dashed')\n",
    "    #ax.axhline(max(desat[ix]), color=\"black\", linestyle='dashed')\n",
    "    #type_des = new_desat[\"labels\"].iloc[ix]\n",
    "    #ax.set_title(f\"Desaturation {ix+1} Type :{int(type_des)}\")\n",
    "#plt.tight_layout()\n",
    "#plt.show()"
   ],
   "metadata": {
    "collapsed": false
   }
  },
  {
   "cell_type": "code",
   "execution_count": null,
   "outputs": [],
   "source": [
    "data_ap = pd.concat([Xa,Ya], axis = 1)\n",
    "# splot = sns.pairplot(data_ap,hue = \"events\")"
   ],
   "metadata": {
    "collapsed": false
   }
  },
  {
   "cell_type": "code",
   "execution_count": null,
   "outputs": [],
   "source": [
    "for feature in Xa.columns :\n",
    "    sns.catplot(x = \"events\", y = feature , data = data_all, kind = \"box\")"
   ],
   "metadata": {
    "collapsed": false
   }
  },
  {
   "cell_type": "code",
   "execution_count": null,
   "outputs": [],
   "source": [
    "# Calcul des stats descr pour chaque type d apnee\n",
    "Xa[Ya == ac].describe()"
   ],
   "metadata": {
    "collapsed": false
   }
  },
  {
   "cell_type": "code",
   "execution_count": null,
   "outputs": [],
   "source": [
    "Xa[Ya == ao].describe()"
   ],
   "metadata": {
    "collapsed": false
   }
  },
  {
   "cell_type": "code",
   "execution_count": null,
   "outputs": [],
   "source": [
    "from sklearn.model_selection import train_test_split\n",
    "from sklearn.linear_model import LogisticRegression\n",
    "from sklearn.metrics import accuracy_score\n",
    "from sklearn.preprocessing import StandardScaler\n",
    "scaler = StandardScaler()\n",
    "Xa_scaled = scaler.fit_transform(Xa)\n",
    "X_train, X_test, Y_train, Y_test = train_test_split(Xa_scaled, Ya, test_size=0.2, random_state=42)\n",
    "model = LogisticRegression(max_iter=1000)\n",
    "model.fit(X_train, Y_train)"
   ],
   "metadata": {
    "collapsed": false
   }
  },
  {
   "cell_type": "code",
   "execution_count": null,
   "outputs": [],
   "source": [
    "train_predictions = model.predict(X_train)\n",
    "test_predictions = model.predict(X_test)\n",
    "train_accuracy = accuracy_score(Y_train, train_predictions)\n",
    "test_accuracy = accuracy_score(Y_test, test_predictions)\n",
    "print(f\"Training set accuracy: {train_accuracy}\")\n",
    "print(f\"Test set accuracy: {test_accuracy}\")\n",
    "train_accuracy_class1 = accuracy_score(Y_train[Y_train == 1], train_predictions[Y_train == 1])\n",
    "test_accuracy_class1 = accuracy_score(Y_test[Y_test == 1], test_predictions[Y_test == 1])\n",
    "print(f\"Training set accuracy for class 1: {train_accuracy_class1}\")\n",
    "print(f\"Test set accuracy for class 1: {test_accuracy_class1}\")"
   ],
   "metadata": {
    "collapsed": false
   }
  },
  {
   "cell_type": "code",
   "execution_count": null,
   "outputs": [],
   "source": [
    "print(Xa.columns)\n",
    "model.coef_"
   ],
   "metadata": {
    "collapsed": false
   }
  },
  {
   "cell_type": "code",
   "execution_count": null,
   "outputs": [],
   "source": [
    "from sklearn.decomposition import PCA\n",
    "from sklearn.cluster import KMeans\n",
    "scaler = StandardScaler(with_mean = False) ## to center add with_mean = True\n",
    "scaled_data = scaler.fit_transform(Xa.loc[:,Xa.columns != \"area_up\"])\n",
    "pca = PCA(n_components=2)\n",
    "transformed_data = pca.fit_transform(scaled_data)\n",
    "plt.figure(figsize=(10, 5))\n",
    "plt.scatter(transformed_data[:, 0], transformed_data[:, 1],c = Ya)\n",
    "plt.show()"
   ],
   "metadata": {
    "collapsed": false
   }
  },
  {
   "cell_type": "code",
   "execution_count": null,
   "outputs": [],
   "source": [
    "num_clusters = 2\n",
    "kmeans = KMeans(num_clusters, init=\"k-means++\",n_init=100)\n",
    "kmeans.fit(Xa.loc[:,Xa.columns != \"area_up\"])\n",
    "cluster_labels = kmeans.labels_\n",
    "plt.figure(figsize=(10, 5))\n",
    "plt.scatter(transformed_data[:, 0], transformed_data[:, 1], c=cluster_labels)\n",
    "plt.title('K-means with 2 clusters')\n",
    "plt.show()\n"
   ],
   "metadata": {
    "collapsed": false
   }
  },
  {
   "cell_type": "code",
   "execution_count": null,
   "outputs": [],
   "source": [
    "import sklearn.mixture as skm\n",
    "mod = skm.GaussianMixture(n_components= 2).fit(Xa.loc[:,Xa.columns != \"area_up\"])\n",
    "lab = mod.predict(Xa.loc[:,Xa.columns != \"area_up\"])\n",
    "plt.figure(figsize=(10, 5))\n",
    "plt.scatter(transformed_data[:, 0], transformed_data[:, 1],c = lab*-1)\n",
    "plt.show()"
   ],
   "metadata": {
    "collapsed": false
   }
  }
 ],
 "metadata": {
  "kernelspec": {
   "display_name": "Python 3 (ipykernel)",
   "language": "python",
   "name": "python3"
  },
  "language_info": {
   "codemirror_mode": {
    "name": "ipython",
    "version": 3
   },
   "file_extension": ".py",
   "mimetype": "text/x-python",
   "name": "python",
   "nbconvert_exporter": "python",
   "pygments_lexer": "ipython3",
   "version": "3.9.8"
  }
 },
 "nbformat": 4,
 "nbformat_minor": 5
}
