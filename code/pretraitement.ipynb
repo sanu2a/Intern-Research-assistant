{
 "cells": [
  {
   "cell_type": "code",
   "execution_count": 26,
   "outputs": [],
   "source": [
    "import sys\n",
    "import pandas as pd\n",
    "import numpy as np\n",
    "import matplotlib.pyplot as plt"
   ],
   "metadata": {
    "collapsed": false
   }
  },
  {
   "cell_type": "code",
   "execution_count": 27,
   "outputs": [],
   "source": [
    "path_code =  \"/Users/sanaailla/Desktop/Intern/CODES/\"\n",
    "sys.path.append(path_code)\n",
    "from Modules import edf\n",
    "from Modules import desaturation"
   ],
   "metadata": {
    "collapsed": false
   }
  },
  {
   "cell_type": "code",
   "execution_count": 28,
   "outputs": [
    {
     "data": {
      "text/plain": "        0\n0  PA1011\n1  PA1089\n2  PA1123\n3  PA1141\n4  PA1150\n5  PA1154\n6  PA1171\n7  PA1178\n8  PA1185\n9  PA1203",
      "text/html": "<div>\n<style scoped>\n    .dataframe tbody tr th:only-of-type {\n        vertical-align: middle;\n    }\n\n    .dataframe tbody tr th {\n        vertical-align: top;\n    }\n\n    .dataframe thead th {\n        text-align: right;\n    }\n</style>\n<table border=\"1\" class=\"dataframe\">\n  <thead>\n    <tr style=\"text-align: right;\">\n      <th></th>\n      <th>0</th>\n    </tr>\n  </thead>\n  <tbody>\n    <tr>\n      <th>0</th>\n      <td>PA1011</td>\n    </tr>\n    <tr>\n      <th>1</th>\n      <td>PA1089</td>\n    </tr>\n    <tr>\n      <th>2</th>\n      <td>PA1123</td>\n    </tr>\n    <tr>\n      <th>3</th>\n      <td>PA1141</td>\n    </tr>\n    <tr>\n      <th>4</th>\n      <td>PA1150</td>\n    </tr>\n    <tr>\n      <th>5</th>\n      <td>PA1154</td>\n    </tr>\n    <tr>\n      <th>6</th>\n      <td>PA1171</td>\n    </tr>\n    <tr>\n      <th>7</th>\n      <td>PA1178</td>\n    </tr>\n    <tr>\n      <th>8</th>\n      <td>PA1185</td>\n    </tr>\n    <tr>\n      <th>9</th>\n      <td>PA1203</td>\n    </tr>\n  </tbody>\n</table>\n</div>"
     },
     "execution_count": 28,
     "metadata": {},
     "output_type": "execute_result"
    }
   ],
   "source": [
    "path_data =\"/Users/sanaailla/Desktop/Intern/Data/mars/\"\n",
    "patients = pd.read_csv(path_data + \"dir_list.csv\",header=None)\n",
    "patients"
   ],
   "metadata": {
    "collapsed": false
   }
  },
  {
   "cell_type": "code",
   "execution_count": 29,
   "outputs": [],
   "source": [
    "def sat_annot_desats(patient):\n",
    "    data = edf.verifier_isPSG(path_data,patient)\n",
    "    annotations = pd.read_csv(path_data + patient + \"/Annotations.csv\")\n",
    "    # saturations,frequence = edf.get_signalSat(data,annotations)\n",
    "    # saturations = edf.filtrer_signalSat(saturations)\n",
    "    saturations = pd.read_csv(path_data + patient + \"/saturations.csv\")\n",
    "    sat_sym = pd.DataFrame(columns=[\"Heure\",\"SAT\"])\n",
    "    sat_sym[\"Heure\"] = saturations[\"Heure\"]\n",
    "    baseline = saturations.SAT[0]\n",
    "    # if baseline<96 :\n",
    "    #      baseline = (np.mean(saturations.SAT[:-1][(np.abs(np.diff(saturations.SAT)) == 0)]))\n",
    "    sat_sym[\"SAT\"] = 2*baseline - saturations.SAT\n",
    "    events =  [\"Apnée Centrale\",\"hypopnée Centrale\",\"Apnée Obstructive\",\"Hypopnée\"]\n",
    "    annotations = annotations[annotations[\"Evènement\"].isin(events)][[\"Heure\",\"Evènement\",\"Durée\"]]\n",
    "    annotations[\"Heure\"] = annotations[\"Heure\"].astype(int)\n",
    "    annotations[\"Durée\"] = annotations[\"Durée\"].astype(int)\n",
    "    # desaturations =  desaturation.f_desaturation (saturations, frequence, annotations, 3)\n",
    "    desaturations = pd.read_csv(path_data + patient + \"/desaturations.csv\")\n",
    "    # desatsym = desaturation.f_desaturation (sat_sym, frequence, annotations, 3)\n",
    "    saturations[\"Heure\"] = saturations[\"Heure\"] .astype(\"int\")\n",
    "    saturations = saturations.groupby(\"Heure\").mean().reset_index()\n",
    "    # hypervs =  desatsym[desatsym.MIN_desat < baseline]\n",
    "    hypervs = pd.read_csv(path_data + patient + \"/hypervs.csv\")\n",
    "    desaturations = desaturations[desaturations.MIN_desat < baseline]\n",
    "    # plt.figure()\n",
    "    # plt.plot(saturations[\"SAT\"][:4000])\n",
    "    # plt.axhline(baseline,c=\"red\")\n",
    "    # plt.show()\n",
    "    # print(frequence)\n",
    "    return saturations,desaturations,hypervs,annotations,baseline"
   ],
   "metadata": {
    "collapsed": false
   }
  },
  {
   "cell_type": "code",
   "execution_count": 30,
   "outputs": [
    {
     "name": "stdout",
     "output_type": "stream",
     "text": [
      "Extracting EDF parameters from /Users/sanaailla/Desktop/Intern/Data/mars/PA1011/FE899T1-PA1011V1C1.edf...\n",
      "EDF file detected\n",
      "Setting channel info structure...\n",
      "Creating raw.info structure...\n",
      "Reading 0 ... 5900543  =      0.000 ... 23048.996 secs...\n",
      "Extracting EDF parameters from /Users/sanaailla/Desktop/Intern/Data/mars/PA1089/FE406T1-PA1089V1C1.edf...\n",
      "EDF file detected\n",
      "Setting channel info structure...\n",
      "Creating raw.info structure...\n",
      "Reading 0 ... 6643711  =      0.000 ... 25951.996 secs...\n",
      "Extracting EDF parameters from /Users/sanaailla/Desktop/Intern/Data/mars/PA1123/FE900T1-PA1123V1C1.edf...\n",
      "EDF file detected\n",
      "Setting channel info structure...\n",
      "Creating raw.info structure...\n",
      "Reading 0 ... 6683391  =      0.000 ... 26106.996 secs...\n",
      "Extracting EDF parameters from /Users/sanaailla/Desktop/Intern/Data/mars/PA1141/FE902T1-PA1141V1C1.edf...\n",
      "EDF file detected\n",
      "Setting channel info structure...\n",
      "Creating raw.info structure...\n",
      "Reading 0 ... 6744575  =      0.000 ... 26345.996 secs...\n",
      "Extracting EDF parameters from /Users/sanaailla/Desktop/Intern/Data/mars/PA1150/FE417T1-PA1150V1C1.edf...\n",
      "EDF file detected\n",
      "Setting channel info structure...\n",
      "Creating raw.info structure...\n",
      "Reading 0 ... 7277311  =      0.000 ... 28426.996 secs...\n",
      "Extracting EDF parameters from /Users/sanaailla/Desktop/Intern/Data/mars/PA1154/FE903T1-PA1154V1C1.edf...\n",
      "EDF file detected\n",
      "Setting channel info structure...\n",
      "Creating raw.info structure...\n",
      "Reading 0 ... 7673855  =      0.000 ... 29975.996 secs...\n",
      "Extracting EDF parameters from /Users/sanaailla/Desktop/Intern/Data/mars/PA1171/FE904T1-PA1171V1C1.edf...\n",
      "EDF file detected\n",
      "Setting channel info structure...\n",
      "Creating raw.info structure...\n",
      "Reading 0 ... 6897663  =      0.000 ... 26943.996 secs...\n",
      "Extracting EDF parameters from /Users/sanaailla/Desktop/Intern/Data/mars/PA1178/FE698T1-PA1178V1C1.edf...\n",
      "EDF file detected\n",
      "Setting channel info structure...\n",
      "Creating raw.info structure...\n",
      "Reading 0 ... 7361791  =      0.000 ... 28756.996 secs...\n",
      "Extracting EDF parameters from /Users/sanaailla/Desktop/Intern/Data/mars/PA1185/FE905T1-PA1185V1C1.edf...\n",
      "EDF file detected\n",
      "Setting channel info structure...\n",
      "Creating raw.info structure...\n",
      "Reading 0 ... 6669311  =      0.000 ... 26051.996 secs...\n",
      "Extracting EDF parameters from /Users/sanaailla/Desktop/Intern/Data/mars/PA1203/FE410T1-PA1203V1C1.edf...\n",
      "EDF file detected\n",
      "Setting channel info structure...\n",
      "Creating raw.info structure...\n",
      "Reading 0 ... 7760639  =      0.000 ... 30314.996 secs...\n"
     ]
    }
   ],
   "source": [
    "saturations_all = pd.DataFrame()\n",
    "desaturations_all = pd.DataFrame()\n",
    "hypervs_all = pd.DataFrame()\n",
    "annotations_all = pd.DataFrame()\n",
    "baselines_all = pd.DataFrame()\n",
    "for patient in patients[0]:\n",
    "    files_path = path_data + patient + \"/\"\n",
    "    saturations, desaturations, hypervs ,annotations,baseline = sat_annot_desats(patient)\n",
    "    saturations['patient'] = patient\n",
    "    desaturations['patient'] = patient\n",
    "    hypervs['patient'] = patient\n",
    "    annotations['patient'] = patient\n",
    "    saturations_all = pd.concat([saturations_all, saturations])\n",
    "    desaturations_all = pd.concat([desaturations_all, desaturations])\n",
    "    hypervs_all = pd.concat([hypervs_all, hypervs])\n",
    "    baselines_all = pd.concat([baselines_all, pd.DataFrame({\"patient\": [patient], \"baseline\": [baseline]})])\n",
    "    # annotations_all = pd.concat([annotations_all, annotations])\n",
    "    saturations_file = files_path + \"/saturations.csv\"\n",
    "    desaturations_file = files_path + \"/desaturations.csv\"\n",
    "    hypervs_file = files_path + \"/hypervs.csv\"\n",
    "    #annotations_file = files_path + \"/hypervs.csv\"\n",
    "    saturations.drop(columns = \"patient\").to_csv(saturations_file, index=False)\n",
    "    desaturations.drop(columns = \"patient\").to_csv(desaturations_file, index=False)\n",
    "    hypervs.drop(columns = \"patient\").to_csv(hypervs_file, index=False)\n",
    "saturations_all_file = path_data + \"saturations_all.csv\"\n",
    "desaturations_all_file = path_data + \"desaturations_all.csv\"\n",
    "hypervs_all_file = path_data + \"hypervs_all.csv\"\n",
    "# annotations_all_file = path_data + \"annotations_all.csv\"\n",
    "saturations_all.to_csv(saturations_all_file, index=False)\n",
    "desaturations_all.to_csv(desaturations_all_file, index=False)\n",
    "hypervs_all.to_csv(hypervs_all_file, index=False)\n",
    "# annotations_all.to_csv(annotations_all_file, index=False)\n",
    "baselines_all.to_csv(path_data + \"baselines.csv\", index=False)"
   ],
   "metadata": {
    "collapsed": false
   }
  },
  {
   "cell_type": "code",
   "execution_count": 31,
   "outputs": [],
   "source": [
    "def annotate_sig(saturations, annotations):\n",
    "    events =  [\"Apnée Centrale\",\"hypopnée Centrale\",\"Apnée Obstructive\",\"Hypopnée\"]\n",
    "    annotations = annotations[annotations[\"Evènement\"].isin(events)][[\"Heure\",\"Evènement\",\"Durée\"]]\n",
    "    saturations[\"Évenement\"] = np.NAN\n",
    "    saturations[\"Durée\"] = np.NAN\n",
    "    for heure, duree, evenement in zip(annotations.Heure, annotations.Durée, annotations.Evènement):\n",
    "        ix = saturations[saturations[\"Heure\"] == heure].index.values\n",
    "        if len(ix)!=0:\n",
    "            i = ix[0]\n",
    "            saturations.loc[i:i + duree - 1, \"Évenement\"] = evenement\n",
    "            saturations.loc[i:i + duree - 1, \"Durée\"] = duree\n",
    "    return saturations"
   ],
   "metadata": {
    "collapsed": false
   }
  },
  {
   "cell_type": "code",
   "execution_count": 32,
   "outputs": [],
   "source": [
    "ac,ao,hc,ho = 0,1,2,3"
   ],
   "metadata": {
    "collapsed": false
   }
  },
  {
   "cell_type": "code",
   "execution_count": 33,
   "outputs": [],
   "source": [
    "def desaturations_lab(desaturations, saturations,patients, seuil = 90) :\n",
    "    toreturn = pd.DataFrame(columns = desaturations.columns)\n",
    "    toreturn[\"events\"] = np.NAN\n",
    "    for patient in patients:\n",
    "        desat = desaturations[desaturations[\"patient\"] == patient].reset_index()\n",
    "        annotations = pd.read_csv(path_data + patient + \"/Annotations.csv\")\n",
    "        sats = saturations[saturations[\"patient\"] == patient].reset_index()\n",
    "        sats = annotate_sig(sats,annotations)\n",
    "        data = pd.DataFrame(data = desat,columns = desaturations.columns)\n",
    "        debut_desat = desat[\"HEURE_debut\"].astype(int) + 1\n",
    "        debut_label = sats.Heure\n",
    "        events = sats[\"Évenement\"]\n",
    "        duree_label = sats.Durée\n",
    "        labels = []\n",
    "        closest_times = []\n",
    "        for i in range(len(desat)):\n",
    "            closest_label = np.NaN\n",
    "            closest_time = np.NaN\n",
    "            for label_time,event,duree in zip(debut_label,events,duree_label):\n",
    "                if label_time < debut_desat[i] and (debut_desat[i] - label_time) < seuil + duree  and label_time not in closest_times:\n",
    "                    closest_label = event\n",
    "                    closest_time = label_time\n",
    "            labels.append(closest_label)\n",
    "            closest_times.append(closest_time)\n",
    "        data[\"events\"] = labels\n",
    "        data = data[~data[\"events\"].isna()].reset_index(drop=True)\n",
    "        toreturn = pd.concat([data,toreturn])\n",
    "        print(\"fin\",patient)\n",
    "    toreturn[\"events\"] =  toreturn[\"events\"].replace({\"hypopnée Centrale\": hc,\"Hypopnée\": ho,\"Apnée Obstructive\": ao,\"Apnée Centrale\": ac})\n",
    "    return toreturn"
   ],
   "metadata": {
    "collapsed": false
   }
  },
  {
   "cell_type": "code",
   "execution_count": 34,
   "outputs": [
    {
     "data": {
      "text/plain": "      MAX_desat  MIN_desat  MAX_resat    HEURE_debut      HEURE_min  \\\n0     96.498528  92.498589  95.498543   80447.562500   80473.218750   \n1     95.498543  92.498589  95.498543   80506.578125   80535.906250   \n2     95.498543  92.498589  95.498543   80870.875000   80891.546875   \n3     97.498512  92.498589  96.498528   80913.546875   80943.203125   \n4     95.498543  92.498589  95.498543   80975.562500   81001.210938   \n...         ...        ...        ...            ...            ...   \n2227  98.498497  90.498619  98.498497  107640.984375  107655.968750   \n2228  98.498497  91.498604  98.498497  107673.632812  107689.640625   \n2229  98.498497  90.498619  96.498528  107707.968750  107728.640625   \n2230  97.498512  90.498619  97.498512  107753.632812  107775.296875   \n2231  96.498528  91.498604  95.498543  107869.296875  107883.296875   \n\n          HEURE_fin  DUREE_event  DUREE_desat  DUREE_resat  DELTA_desat  \\\n0      80498.218750    50.656250    25.656250    25.000000          4.0   \n1      80550.218750    43.640625    29.328125    14.312500          3.0   \n2      80899.546875    28.671875    20.671875     8.000000          3.0   \n3      80966.546875    53.000000    29.656250    23.343750          5.0   \n4      81037.203125    61.640625    25.648438    35.992188          3.0   \n...             ...          ...          ...          ...          ...   \n2227  107673.632812    32.648438    14.984375    17.664062          8.0   \n2228  107707.968750    34.335938    16.007812    18.328125          7.0   \n2229  107743.632812    35.664062    20.671875    14.992188          8.0   \n2230  107865.960938   112.328125    21.664062    90.664062          7.0   \n2231  107945.960938    76.664062    14.000000    62.664062          5.0   \n\n      DELTA_resat  PENTE_desat  PENTE_resat patient  events  \n0        2.999954    -0.155907     0.119998  PA1203       2  \n1        2.999954    -0.102291     0.209604  PA1203       2  \n2        2.999954    -0.145125     0.374994  PA1203       2  \n3        3.999939    -0.168599     0.171349  PA1203       2  \n4        2.999954    -0.116966     0.083350  PA1203       2  \n...           ...          ...          ...     ...     ...  \n2227     7.999878    -0.533889     0.452890  PA1011       0  \n2228     6.999893    -0.437286     0.381921  PA1011       3  \n2229     5.999908    -0.386999     0.400202  PA1011       3  \n2230     6.999893    -0.323116     0.077207  PA1011       3  \n2231     3.999939    -0.357143     0.063831  PA1011       3  \n\n[2232 rows x 15 columns]",
      "text/html": "<div>\n<style scoped>\n    .dataframe tbody tr th:only-of-type {\n        vertical-align: middle;\n    }\n\n    .dataframe tbody tr th {\n        vertical-align: top;\n    }\n\n    .dataframe thead th {\n        text-align: right;\n    }\n</style>\n<table border=\"1\" class=\"dataframe\">\n  <thead>\n    <tr style=\"text-align: right;\">\n      <th></th>\n      <th>MAX_desat</th>\n      <th>MIN_desat</th>\n      <th>MAX_resat</th>\n      <th>HEURE_debut</th>\n      <th>HEURE_min</th>\n      <th>HEURE_fin</th>\n      <th>DUREE_event</th>\n      <th>DUREE_desat</th>\n      <th>DUREE_resat</th>\n      <th>DELTA_desat</th>\n      <th>DELTA_resat</th>\n      <th>PENTE_desat</th>\n      <th>PENTE_resat</th>\n      <th>patient</th>\n      <th>events</th>\n    </tr>\n  </thead>\n  <tbody>\n    <tr>\n      <th>0</th>\n      <td>96.498528</td>\n      <td>92.498589</td>\n      <td>95.498543</td>\n      <td>80447.562500</td>\n      <td>80473.218750</td>\n      <td>80498.218750</td>\n      <td>50.656250</td>\n      <td>25.656250</td>\n      <td>25.000000</td>\n      <td>4.0</td>\n      <td>2.999954</td>\n      <td>-0.155907</td>\n      <td>0.119998</td>\n      <td>PA1203</td>\n      <td>2</td>\n    </tr>\n    <tr>\n      <th>1</th>\n      <td>95.498543</td>\n      <td>92.498589</td>\n      <td>95.498543</td>\n      <td>80506.578125</td>\n      <td>80535.906250</td>\n      <td>80550.218750</td>\n      <td>43.640625</td>\n      <td>29.328125</td>\n      <td>14.312500</td>\n      <td>3.0</td>\n      <td>2.999954</td>\n      <td>-0.102291</td>\n      <td>0.209604</td>\n      <td>PA1203</td>\n      <td>2</td>\n    </tr>\n    <tr>\n      <th>2</th>\n      <td>95.498543</td>\n      <td>92.498589</td>\n      <td>95.498543</td>\n      <td>80870.875000</td>\n      <td>80891.546875</td>\n      <td>80899.546875</td>\n      <td>28.671875</td>\n      <td>20.671875</td>\n      <td>8.000000</td>\n      <td>3.0</td>\n      <td>2.999954</td>\n      <td>-0.145125</td>\n      <td>0.374994</td>\n      <td>PA1203</td>\n      <td>2</td>\n    </tr>\n    <tr>\n      <th>3</th>\n      <td>97.498512</td>\n      <td>92.498589</td>\n      <td>96.498528</td>\n      <td>80913.546875</td>\n      <td>80943.203125</td>\n      <td>80966.546875</td>\n      <td>53.000000</td>\n      <td>29.656250</td>\n      <td>23.343750</td>\n      <td>5.0</td>\n      <td>3.999939</td>\n      <td>-0.168599</td>\n      <td>0.171349</td>\n      <td>PA1203</td>\n      <td>2</td>\n    </tr>\n    <tr>\n      <th>4</th>\n      <td>95.498543</td>\n      <td>92.498589</td>\n      <td>95.498543</td>\n      <td>80975.562500</td>\n      <td>81001.210938</td>\n      <td>81037.203125</td>\n      <td>61.640625</td>\n      <td>25.648438</td>\n      <td>35.992188</td>\n      <td>3.0</td>\n      <td>2.999954</td>\n      <td>-0.116966</td>\n      <td>0.083350</td>\n      <td>PA1203</td>\n      <td>2</td>\n    </tr>\n    <tr>\n      <th>...</th>\n      <td>...</td>\n      <td>...</td>\n      <td>...</td>\n      <td>...</td>\n      <td>...</td>\n      <td>...</td>\n      <td>...</td>\n      <td>...</td>\n      <td>...</td>\n      <td>...</td>\n      <td>...</td>\n      <td>...</td>\n      <td>...</td>\n      <td>...</td>\n      <td>...</td>\n    </tr>\n    <tr>\n      <th>2227</th>\n      <td>98.498497</td>\n      <td>90.498619</td>\n      <td>98.498497</td>\n      <td>107640.984375</td>\n      <td>107655.968750</td>\n      <td>107673.632812</td>\n      <td>32.648438</td>\n      <td>14.984375</td>\n      <td>17.664062</td>\n      <td>8.0</td>\n      <td>7.999878</td>\n      <td>-0.533889</td>\n      <td>0.452890</td>\n      <td>PA1011</td>\n      <td>0</td>\n    </tr>\n    <tr>\n      <th>2228</th>\n      <td>98.498497</td>\n      <td>91.498604</td>\n      <td>98.498497</td>\n      <td>107673.632812</td>\n      <td>107689.640625</td>\n      <td>107707.968750</td>\n      <td>34.335938</td>\n      <td>16.007812</td>\n      <td>18.328125</td>\n      <td>7.0</td>\n      <td>6.999893</td>\n      <td>-0.437286</td>\n      <td>0.381921</td>\n      <td>PA1011</td>\n      <td>3</td>\n    </tr>\n    <tr>\n      <th>2229</th>\n      <td>98.498497</td>\n      <td>90.498619</td>\n      <td>96.498528</td>\n      <td>107707.968750</td>\n      <td>107728.640625</td>\n      <td>107743.632812</td>\n      <td>35.664062</td>\n      <td>20.671875</td>\n      <td>14.992188</td>\n      <td>8.0</td>\n      <td>5.999908</td>\n      <td>-0.386999</td>\n      <td>0.400202</td>\n      <td>PA1011</td>\n      <td>3</td>\n    </tr>\n    <tr>\n      <th>2230</th>\n      <td>97.498512</td>\n      <td>90.498619</td>\n      <td>97.498512</td>\n      <td>107753.632812</td>\n      <td>107775.296875</td>\n      <td>107865.960938</td>\n      <td>112.328125</td>\n      <td>21.664062</td>\n      <td>90.664062</td>\n      <td>7.0</td>\n      <td>6.999893</td>\n      <td>-0.323116</td>\n      <td>0.077207</td>\n      <td>PA1011</td>\n      <td>3</td>\n    </tr>\n    <tr>\n      <th>2231</th>\n      <td>96.498528</td>\n      <td>91.498604</td>\n      <td>95.498543</td>\n      <td>107869.296875</td>\n      <td>107883.296875</td>\n      <td>107945.960938</td>\n      <td>76.664062</td>\n      <td>14.000000</td>\n      <td>62.664062</td>\n      <td>5.0</td>\n      <td>3.999939</td>\n      <td>-0.357143</td>\n      <td>0.063831</td>\n      <td>PA1011</td>\n      <td>3</td>\n    </tr>\n  </tbody>\n</table>\n<p>2232 rows × 15 columns</p>\n</div>"
     },
     "execution_count": 34,
     "metadata": {},
     "output_type": "execute_result"
    }
   ],
   "source": [
    "# desaturations_labelise = desaturations_lab(desaturations_all,saturations_all,patients[0])\n",
    "# desaturations_labelise.to_csv(path_data + \"Desaturations_all_labelisee.csv\")\n",
    "desaturations_labelise = pd.read_csv(path_data + \"Desaturations_all_labelisee.csv\")\n",
    "desaturations_labelise = desaturations_labelise.drop(desaturations_labelise.columns[0],axis = 1)\n",
    "desaturations_labelise"
   ],
   "metadata": {
    "collapsed": false
   }
  },
  {
   "cell_type": "code",
   "execution_count": 35,
   "outputs": [
    {
     "data": {
      "text/plain": "events\n0    759\n3    627\n2    573\n1    273\ndtype: int64"
     },
     "execution_count": 35,
     "metadata": {},
     "output_type": "execute_result"
    }
   ],
   "source": [
    "desaturations_labelise.value_counts(subset = \"events\")"
   ],
   "metadata": {
    "collapsed": false
   }
  },
  {
   "cell_type": "code",
   "execution_count": 36,
   "outputs": [],
   "source": [
    "import numpy as np\n",
    "from scipy.integrate import trapz\n",
    "def attribute_hypervs(desaturations,saturations,hypervs,patients,ecart = 0):\n",
    "    toreturn = pd.DataFrame()\n",
    "    for patient in patients:\n",
    "        print(patient)\n",
    "        desat = desaturations[desaturations[\"patient\"] == patient].reset_index()\n",
    "        sats = saturations[saturations[\"patient\"] == patient].reset_index()\n",
    "        hyp = hypervs[hypervs[\"patient\"] == patient].reset_index()\n",
    "        # print(sats)\n",
    "        m = baselines_all[baselines_all[\"patient\"] == patient].baseline.values[0]\n",
    "        i = 0\n",
    "        ixs = []\n",
    "        desat[\"Fin hyp\"] = 0\n",
    "        desat[\"Hyp\"] = 0\n",
    "        desat[\"area_up\"] = 0\n",
    "        while i < len(desat):\n",
    "            seuil = int(desat.DUREE_event[i]) + ecart\n",
    "            j = 0\n",
    "            while j < len(hyp):\n",
    "                dff_time = hyp.HEURE_min[j] - desat.HEURE_debut[i]\n",
    "                if dff_time >= 0 and dff_time <= seuil:\n",
    "                    ixs.append((i,j))\n",
    "                    break\n",
    "                j+= 1\n",
    "            desaturation = sats[((sats.Heure >= desat.HEURE_debut[i]) & (sats.Heure <= desat.HEURE_fin[i]))].SAT\n",
    "            x = desaturation.index.values\n",
    "            y = desaturation.values\n",
    "            baseline = [m for _ in range(len(desaturation))]\n",
    "            desat.loc[i, \"area_down\"] = trapz(np.minimum(y, baseline) - baseline, x)\n",
    "            if (desat.MIN_desat[i] >= m):\n",
    "                plt.plot(desaturation)\n",
    "                plt.axhline(m,c=\"red\")\n",
    "                plt.show()\n",
    "            i+= 1\n",
    "        for (d,h) in ixs:\n",
    "            signal_hyp = sats[(sats.Heure >= hyp.HEURE_min[h]) & (sats.Heure <= hyp.HEURE_fin[h])].SAT\n",
    "            indice_sig = (signal_hyp >= m)\n",
    "            indice_descente = indice_sig[indice_sig == False].index\n",
    "            if (len(indice_descente)!=0):\n",
    "                indice_descente = indice_descente.values[0]\n",
    "                heure_fin = sats.iloc[indice_descente].Heure\n",
    "            else :\n",
    "                heure_fin = hyp.HEURE_fin[h]\n",
    "            desaturation = sats[(sats.Heure >= desat.HEURE_debut[d]) & (sats.Heure <= heure_fin)].SAT\n",
    "            hypo = sats[(sats.Heure >= desat.HEURE_min[d]) & (sats.Heure <= heure_fin)].SAT\n",
    "            if desaturation.values[-1] <m:\n",
    "                hypo = hypo[:-1]\n",
    "            x = hypo.index.values\n",
    "            y = hypo.values\n",
    "            reference_line = [m for _ in range(len(hypo))]\n",
    "            desat.loc[d, \"area_up\"] = trapz(np.maximum(y, reference_line) - reference_line, x)\n",
    "            #desat.loc[d, \"area_down\"] = trapz(np.maximum(y, reference_line) - reference_line, x)\n",
    "            desat.loc[d,\"Fin hyp\"] = heure_fin\n",
    "            desat.loc[d,\"Hyp\"] = 1\n",
    "        toreturn = pd.concat([desat,toreturn])\n",
    "        print(\"fin\", patient)\n",
    "    return toreturn[toreturn.area_down>0]"
   ],
   "metadata": {
    "collapsed": false
   }
  },
  {
   "cell_type": "code",
   "execution_count": 37,
   "outputs": [
    {
     "name": "stdout",
     "output_type": "stream",
     "text": [
      "PA1011\n",
      "fin PA1011\n",
      "PA1089\n",
      "fin PA1089\n",
      "PA1123\n",
      "fin PA1123\n",
      "PA1141\n",
      "fin PA1141\n",
      "PA1150\n",
      "fin PA1150\n",
      "PA1154\n",
      "fin PA1154\n",
      "PA1171\n",
      "fin PA1171\n",
      "PA1178\n",
      "fin PA1178\n",
      "PA1185\n",
      "fin PA1185\n",
      "PA1203\n",
      "fin PA1203\n"
     ]
    },
    {
     "data": {
      "text/plain": "Index(['index', 'MAX_desat', 'MIN_desat', 'MAX_resat', 'HEURE_debut',\n       'HEURE_min', 'HEURE_fin', 'DUREE_event', 'DUREE_desat', 'DUREE_resat',\n       'DELTA_desat', 'DELTA_resat', 'PENTE_desat', 'PENTE_resat', 'patient',\n       'events', 'Fin hyp', 'Hyp', 'area_up', 'area_down'],\n      dtype='object')"
     },
     "execution_count": 37,
     "metadata": {},
     "output_type": "execute_result"
    }
   ],
   "source": [
    "final_desats = attribute_hypervs(desaturations_labelise,saturations_all,hypervs_all,patients[0],0)\n",
    "final_desats.columns\n",
    "# saturations_all[saturations_all[\"patient\"] == patients[0][1]]"
   ],
   "metadata": {
    "collapsed": false
   }
  },
  {
   "cell_type": "code",
   "execution_count": 38,
   "outputs": [
    {
     "data": {
      "text/plain": "Empty DataFrame\nColumns: [patient, MAX_desat, MIN_desat, MAX_resat, DUREE_event, DUREE_desat, DUREE_resat, DELTA_desat, DELTA_resat, PENTE_desat, PENTE_resat, area_down, area_up, events]\nIndex: []",
      "text/html": "<div>\n<style scoped>\n    .dataframe tbody tr th:only-of-type {\n        vertical-align: middle;\n    }\n\n    .dataframe tbody tr th {\n        vertical-align: top;\n    }\n\n    .dataframe thead th {\n        text-align: right;\n    }\n</style>\n<table border=\"1\" class=\"dataframe\">\n  <thead>\n    <tr style=\"text-align: right;\">\n      <th></th>\n      <th>patient</th>\n      <th>MAX_desat</th>\n      <th>MIN_desat</th>\n      <th>MAX_resat</th>\n      <th>DUREE_event</th>\n      <th>DUREE_desat</th>\n      <th>DUREE_resat</th>\n      <th>DELTA_desat</th>\n      <th>DELTA_resat</th>\n      <th>PENTE_desat</th>\n      <th>PENTE_resat</th>\n      <th>area_down</th>\n      <th>area_up</th>\n      <th>events</th>\n    </tr>\n  </thead>\n  <tbody>\n  </tbody>\n</table>\n</div>"
     },
     "execution_count": 38,
     "metadata": {},
     "output_type": "execute_result"
    }
   ],
   "source": [
    "features = [\"patient\",\"MAX_desat\",\"MIN_desat\",\"MAX_resat\",\"DUREE_event\", \"DUREE_desat\",\"DUREE_resat\",\"DELTA_desat\",\"DELTA_resat\",\"PENTE_desat\",\"PENTE_resat\" ,\"area_down\",\"area_up\",\"events\"]\n",
    "final_desats = final_desats[features]\n",
    "final_desats"
   ],
   "metadata": {
    "collapsed": false
   }
  },
  {
   "cell_type": "code",
   "execution_count": 39,
   "outputs": [],
   "source": [
    "# final_desats.to_csv(path_data + \"final_desats.csv\",index = False)\n",
    "final_desats = pd.read_csv(path_data + \"final_desats.csv\")\n",
    "final_desats = final_desats[features]\n",
    "final_desats.to_csv(path_data + \"final_desats.csv\",index = False)"
   ],
   "metadata": {
    "collapsed": false
   }
  },
  {
   "cell_type": "code",
   "execution_count": 40,
   "outputs": [],
   "source": [
    "def display_desaturations(desaturations,saturations,patient):\n",
    "    num_plots = len(desaturations[desaturations.Hyp == 1])\n",
    "    num_columns = 3\n",
    "    num_rows = (num_plots + num_columns - 1) // num_columns\n",
    "    fig, axes = plt.subplots(num_rows, num_columns, figsize=(15, 5*num_rows))\n",
    "    j = 0\n",
    "    for i in range(len(desaturations)):\n",
    "        heure_fin = desaturations.HEURE_fin[i]\n",
    "        if  desaturations[\"Fin hyp\"][i] !=0:\n",
    "            row = j // num_columns\n",
    "            col = j % num_columns\n",
    "            ax = axes[row, col]\n",
    "            heure_fin = desaturations[\"Fin hyp\"][i]\n",
    "            # heure_fin = desaturations.HEURE_fin\n",
    "            desaturation = saturations[(saturations.Heure >= desaturations.HEURE_debut[i]) & (saturations.Heure <= (desaturations.HEURE_fin[i] + 1))].SAT\n",
    "            ax.plot(desaturation,c = \"blue\")\n",
    "            m = baselines_all[baselines_all[\"patient\"] == patient].baseline.values[0]\n",
    "            ax.plot(saturations[(saturations.Heure >= desaturations.HEURE_min[i]) & (saturations.Heure <= (heure_fin + 1)) & (saturations.SAT >= m)].SAT,c = \"green\")\n",
    "            ax.axhline(m,c=\"red\")\n",
    "            j+=1\n",
    "    plt.tight_layout()\n",
    "    plt.show()"
   ],
   "metadata": {
    "collapsed": false
   }
  },
  {
   "cell_type": "code",
   "execution_count": 43,
   "outputs": [
    {
     "data": {
      "text/plain": "         MAX_desat    MIN_desat    MAX_resat  DUREE_event  DUREE_desat  \\\ncount  2232.000000  2232.000000  2232.000000  2232.000000  2232.000000   \nmean     97.964007    92.174669    97.991784    49.532027    19.468354   \nstd       1.284537     2.690547     1.306774    20.382729     8.317665   \nmin      92.498589    77.498817    92.498589    10.007812     0.007812   \n25%      97.498512    90.498619    97.498512    35.656250    13.351562   \n50%      98.498497    92.498589    98.498497    47.363281    20.007812   \n75%      98.498497    94.498558    98.498497    59.984375    26.007812   \nmax      99.498482    96.498528    99.498482   119.992188   115.664062   \n\n       DUREE_resat  DELTA_desat  DELTA_resat  PENTE_desat  PENTE_resat  \\\ncount  2232.000000  2232.000000  2232.000000  2232.000000  2232.000000   \nmean     30.063673     5.789427     5.817116    -3.353351     0.323195   \nstd      18.676972     2.750252     2.834195    41.659935     0.420097   \nmin       0.992188     3.000000     2.999954  -896.000000     0.028214   \n25%      17.333984     4.000000     3.999939    -0.434183     0.116929   \n50%      27.000000     5.000000     4.999924    -0.292446     0.203373   \n75%      37.656250     7.000000     6.999893    -0.202252     0.386993   \nmax     108.328125    18.000000    21.999664    -0.051874     5.039293   \n\n         area_down      area_up        DD100        DDmax       DDbase  \\\ncount  2232.000000  2232.000000  2232.000000  2232.000000  2232.000000   \nmean   -130.521752    11.450891     7.825331     5.789338     5.132428   \nstd     113.814272    27.152401     2.690547     2.750210     3.333847   \nmin   -1738.393717     0.000000     3.501472     2.999954    -1.999968   \n25%    -173.806657     0.000000     5.501442     3.999939     2.999957   \n50%    -102.081492     0.000000     7.501411     4.999924     4.999922   \n75%     -53.188259     8.024583     9.501381     6.999893     6.999891   \nmax      -0.401570   209.391440    22.501183    17.999725    16.999744   \n\n            TRatio       PRatio  \ncount  2232.000000  2232.000000  \nmean      1.143694     8.229758  \nstd       2.584693    88.859959  \nmin       0.000398     0.015147  \n25%       0.439541     0.911687  \n50%       0.709730     1.419879  \n75%       1.078760     2.332400  \nmax      73.674419  2095.865314  ",
      "text/html": "<div>\n<style scoped>\n    .dataframe tbody tr th:only-of-type {\n        vertical-align: middle;\n    }\n\n    .dataframe tbody tr th {\n        vertical-align: top;\n    }\n\n    .dataframe thead th {\n        text-align: right;\n    }\n</style>\n<table border=\"1\" class=\"dataframe\">\n  <thead>\n    <tr style=\"text-align: right;\">\n      <th></th>\n      <th>MAX_desat</th>\n      <th>MIN_desat</th>\n      <th>MAX_resat</th>\n      <th>DUREE_event</th>\n      <th>DUREE_desat</th>\n      <th>DUREE_resat</th>\n      <th>DELTA_desat</th>\n      <th>DELTA_resat</th>\n      <th>PENTE_desat</th>\n      <th>PENTE_resat</th>\n      <th>area_down</th>\n      <th>area_up</th>\n      <th>DD100</th>\n      <th>DDmax</th>\n      <th>DDbase</th>\n      <th>TRatio</th>\n      <th>PRatio</th>\n    </tr>\n  </thead>\n  <tbody>\n    <tr>\n      <th>count</th>\n      <td>2232.000000</td>\n      <td>2232.000000</td>\n      <td>2232.000000</td>\n      <td>2232.000000</td>\n      <td>2232.000000</td>\n      <td>2232.000000</td>\n      <td>2232.000000</td>\n      <td>2232.000000</td>\n      <td>2232.000000</td>\n      <td>2232.000000</td>\n      <td>2232.000000</td>\n      <td>2232.000000</td>\n      <td>2232.000000</td>\n      <td>2232.000000</td>\n      <td>2232.000000</td>\n      <td>2232.000000</td>\n      <td>2232.000000</td>\n    </tr>\n    <tr>\n      <th>mean</th>\n      <td>97.964007</td>\n      <td>92.174669</td>\n      <td>97.991784</td>\n      <td>49.532027</td>\n      <td>19.468354</td>\n      <td>30.063673</td>\n      <td>5.789427</td>\n      <td>5.817116</td>\n      <td>-3.353351</td>\n      <td>0.323195</td>\n      <td>-130.521752</td>\n      <td>11.450891</td>\n      <td>7.825331</td>\n      <td>5.789338</td>\n      <td>5.132428</td>\n      <td>1.143694</td>\n      <td>8.229758</td>\n    </tr>\n    <tr>\n      <th>std</th>\n      <td>1.284537</td>\n      <td>2.690547</td>\n      <td>1.306774</td>\n      <td>20.382729</td>\n      <td>8.317665</td>\n      <td>18.676972</td>\n      <td>2.750252</td>\n      <td>2.834195</td>\n      <td>41.659935</td>\n      <td>0.420097</td>\n      <td>113.814272</td>\n      <td>27.152401</td>\n      <td>2.690547</td>\n      <td>2.750210</td>\n      <td>3.333847</td>\n      <td>2.584693</td>\n      <td>88.859959</td>\n    </tr>\n    <tr>\n      <th>min</th>\n      <td>92.498589</td>\n      <td>77.498817</td>\n      <td>92.498589</td>\n      <td>10.007812</td>\n      <td>0.007812</td>\n      <td>0.992188</td>\n      <td>3.000000</td>\n      <td>2.999954</td>\n      <td>-896.000000</td>\n      <td>0.028214</td>\n      <td>-1738.393717</td>\n      <td>0.000000</td>\n      <td>3.501472</td>\n      <td>2.999954</td>\n      <td>-1.999968</td>\n      <td>0.000398</td>\n      <td>0.015147</td>\n    </tr>\n    <tr>\n      <th>25%</th>\n      <td>97.498512</td>\n      <td>90.498619</td>\n      <td>97.498512</td>\n      <td>35.656250</td>\n      <td>13.351562</td>\n      <td>17.333984</td>\n      <td>4.000000</td>\n      <td>3.999939</td>\n      <td>-0.434183</td>\n      <td>0.116929</td>\n      <td>-173.806657</td>\n      <td>0.000000</td>\n      <td>5.501442</td>\n      <td>3.999939</td>\n      <td>2.999957</td>\n      <td>0.439541</td>\n      <td>0.911687</td>\n    </tr>\n    <tr>\n      <th>50%</th>\n      <td>98.498497</td>\n      <td>92.498589</td>\n      <td>98.498497</td>\n      <td>47.363281</td>\n      <td>20.007812</td>\n      <td>27.000000</td>\n      <td>5.000000</td>\n      <td>4.999924</td>\n      <td>-0.292446</td>\n      <td>0.203373</td>\n      <td>-102.081492</td>\n      <td>0.000000</td>\n      <td>7.501411</td>\n      <td>4.999924</td>\n      <td>4.999922</td>\n      <td>0.709730</td>\n      <td>1.419879</td>\n    </tr>\n    <tr>\n      <th>75%</th>\n      <td>98.498497</td>\n      <td>94.498558</td>\n      <td>98.498497</td>\n      <td>59.984375</td>\n      <td>26.007812</td>\n      <td>37.656250</td>\n      <td>7.000000</td>\n      <td>6.999893</td>\n      <td>-0.202252</td>\n      <td>0.386993</td>\n      <td>-53.188259</td>\n      <td>8.024583</td>\n      <td>9.501381</td>\n      <td>6.999893</td>\n      <td>6.999891</td>\n      <td>1.078760</td>\n      <td>2.332400</td>\n    </tr>\n    <tr>\n      <th>max</th>\n      <td>99.498482</td>\n      <td>96.498528</td>\n      <td>99.498482</td>\n      <td>119.992188</td>\n      <td>115.664062</td>\n      <td>108.328125</td>\n      <td>18.000000</td>\n      <td>21.999664</td>\n      <td>-0.051874</td>\n      <td>5.039293</td>\n      <td>-0.401570</td>\n      <td>209.391440</td>\n      <td>22.501183</td>\n      <td>17.999725</td>\n      <td>16.999744</td>\n      <td>73.674419</td>\n      <td>2095.865314</td>\n    </tr>\n  </tbody>\n</table>\n</div>"
     },
     "execution_count": 43,
     "metadata": {},
     "output_type": "execute_result"
    }
   ],
   "source": [
    "desat = pd.read_csv(\"statistiques.csv\")\n",
    "summary = desat.describe()\n",
    "summary\n"
   ],
   "metadata": {
    "collapsed": false
   }
  }
 ],
 "metadata": {
  "kernelspec": {
   "display_name": "Python 3",
   "language": "python",
   "name": "python3"
  },
  "language_info": {
   "codemirror_mode": {
    "name": "ipython",
    "version": 2
   },
   "file_extension": ".py",
   "mimetype": "text/x-python",
   "name": "python",
   "nbconvert_exporter": "python",
   "pygments_lexer": "ipython2",
   "version": "2.7.6"
  }
 },
 "nbformat": 4,
 "nbformat_minor": 0
}
