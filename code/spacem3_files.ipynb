{
 "cells": [
  {
   "cell_type": "code",
   "execution_count": 1,
   "metadata": {
    "collapsed": true
   },
   "outputs": [],
   "source": [
    "import pandas as pd"
   ]
  },
  {
   "cell_type": "code",
   "execution_count": 2,
   "outputs": [],
   "source": [
    "path_data = \"/Users/sanaailla/Desktop/Intern/Data/mars/\"\n",
    "data = pd.read_csv(path_data + \"final_desats.csv\")\n",
    "types = pd.read_csv(path_data + \"res_so.csv\",index_col= 0 )\n",
    "desaturations = pd.read_csv(path_data + \"spacem3_so.csv\",index_col= 0 )"
   ],
   "metadata": {
    "collapsed": false
   }
  },
  {
   "cell_type": "code",
   "execution_count": 25,
   "outputs": [],
   "source": [
    "features = [\"MIN_desat\",\"PENTE_resat\",\"area_down\",\"area_up\",\"DUREE_event\",\"DDbase\",\"PRatio\"]"
   ],
   "metadata": {
    "collapsed": false
   }
  },
  {
   "cell_type": "code",
   "execution_count": 31,
   "outputs": [],
   "source": [
    "donnees = desaturations[features]"
   ],
   "metadata": {
    "collapsed": false
   }
  },
  {
   "cell_type": "code",
   "execution_count": 32,
   "outputs": [],
   "source": [
    "donnees.to_csv(path_data + 'ascii.txt', sep=' ', index=False, header=False)"
   ],
   "metadata": {
    "collapsed": false
   }
  },
  {
   "cell_type": "code",
   "execution_count": 96,
   "outputs": [],
   "source": [
    "groupes = desaturations.groupby(\"V1\")\n",
    "with open(path_data + \"graph.nei\", \"w\") as f:\n",
    "    f.write(\"0\\n\")\n",
    "    for patient in desaturations[\"V1\"].unique():\n",
    "        data = groupes.get_group(patient)\n",
    "        n = len(data.index) - 1\n",
    "        for i, idx in enumerate(data.index):\n",
    "            skipped_indices = (*data.index.values[0:i], *data.index.values[i+1:])\n",
    "            skipped_indices_str = ' '.join(map(str, skipped_indices))\n",
    "            f.write(f\"{idx} {n} {skipped_indices_str}\\n\")\n"
   ],
   "metadata": {
    "collapsed": false
   }
  }
 ],
 "metadata": {
  "kernelspec": {
   "display_name": "Python 3",
   "language": "python",
   "name": "python3"
  },
  "language_info": {
   "codemirror_mode": {
    "name": "ipython",
    "version": 2
   },
   "file_extension": ".py",
   "mimetype": "text/x-python",
   "name": "python",
   "nbconvert_exporter": "python",
   "pygments_lexer": "ipython2",
   "version": "2.7.6"
  }
 },
 "nbformat": 4,
 "nbformat_minor": 0
}
